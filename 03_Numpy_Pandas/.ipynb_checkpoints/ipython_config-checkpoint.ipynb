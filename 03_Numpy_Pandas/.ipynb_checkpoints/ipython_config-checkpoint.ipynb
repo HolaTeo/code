{
 "cells": [
  {
   "cell_type": "markdown",
   "metadata": {},
   "source": [
    "### ipython 설정\n",
    "- startup 파일 설정\n",
    "    - 주피터 노트북 실행시 미리 실행되는 코드 설정\n",
    "    - 설정 방법\n",
    "        - 프로필 파일 생성 : '$ ipython profile create'\n",
    "        - startup 파일 수정 : cd C:\\Users\\Choi Taeyoung\\.ipython\\profile_default\\startup\n",
    "        - inline backend config\n",
    "            - 매직커멘드 설정 없이 바로 그래프를 그릴수 있도록 설정\n",
    "            - '$ vi ~/.ipython/profile_default/ipython_kernel_config.py'\n",
    "            - vi C:\\Users\\\\Choi Taeyoung\\\\.ipython\\\\profile_default\\\\ipython_kernel_config.py\n",
    "        ```\n",
    "        c.IPKernelApp.matplotlib = 'inline'\n",
    "        c.InlineBackend.figure_format = 'retina'\n",
    "        ```\n",
    "https://datascienceschool.net/view-notebook/21b069aa5f3043cfb2ab0d15d7f7561e/ 참조"
   ]
  },
  {
   "cell_type": "code",
   "execution_count": null,
   "metadata": {},
   "outputs": [],
   "source": [
    "# 경고 무시\n",
    "import warnings\n",
    "warnings.simplefilter('ignore')\n",
    "\n",
    "# basic\n",
    "import time\n",
    "import random\n",
    "\n",
    "# 자주 사용하는 패키지를 임포트\n",
    "import matplotlib as mpl\n",
    "import matplotlib.pylab as plt\n",
    "from mpl_toolkits.mplot3d import Axes3D\n",
    "import seaborn as sns\n",
    "import numpy as np\n",
    "import scipy as sp\n",
    "import pandas as pd\n",
    "import statsmodels.api as sm\n",
    "import sklearn as sk\n",
    "\n",
    "# web crawling\n",
    "import requests\n",
    "from bs4 import BeautifulSoup\n",
    "\n",
    "# matplotlib 설정\n",
    "mpl.use('Agg')\n",
    "\n",
    "# seaborn 설정\n",
    "sns.set()\n",
    "sns.set_style(\"whitegrid\")\n",
    "sns.set_color_codes()"
   ]
  },
  {
   "cell_type": "code",
   "execution_count": null,
   "metadata": {},
   "outputs": [],
   "source": [
    "### autopep8 기능 추가\n",
    "- nbxtentions config 설치\n",
    "    - '$ conda install -c conda-forge jupyter_contrib_nbextentions'\n",
    "    - 주피터 노트북 서버 재시작\n",
    "- autopep8 패키지 설치\n",
    "    - 아래의 명령중 한가지만 선택해서 설치\n",
    "    - 'pip install autopep8', 'conda install -c conda=forge autopep8'\n",
    "- nbextentions config 메뉴로 들어가서 autopep8 체크"
   ]
  },
  {
   "cell_type": "code",
   "execution_count": null,
   "metadata": {},
   "outputs": [],
   "source": []
  },
  {
   "cell_type": "code",
   "execution_count": null,
   "metadata": {},
   "outputs": [],
   "source": []
  }
 ],
 "metadata": {
  "kernelspec": {
   "display_name": "Python 3",
   "language": "python",
   "name": "python3"
  },
  "language_info": {
   "codemirror_mode": {
    "name": "ipython",
    "version": 3
   },
   "file_extension": ".py",
   "mimetype": "text/x-python",
   "name": "python",
   "nbconvert_exporter": "python",
   "pygments_lexer": "ipython3",
   "version": "3.7.1"
  }
 },
 "nbformat": 4,
 "nbformat_minor": 2
}
