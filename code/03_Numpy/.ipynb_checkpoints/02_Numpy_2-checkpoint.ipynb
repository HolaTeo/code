{
 "cells": [
  {
   "cell_type": "markdown",
   "metadata": {},
   "source": [
    "### summary\n",
    "- numpy : 선형대수를 빠르게 연산해주는 패키지\n",
    "- 행렬의 생성 1 : ndarray, np.array(iterable)\n",
    "- 행렬의 생성 2 : ones, zeros\n",
    "- 행렬 데이터 선택 : array[x, y, z]\n",
    "- 행렬 데이터 수정\n",
    "    - 행렬 데이터를 선택\n",
    "    - =, < (값(스칼라, 벡터, 행렬))\n",
    "    - 브로드 캐스팅 개념\n",
    "- arange : list에서 사용하는 range 랑 비슷함 : 결과가 ndarray"
   ]
  },
  {
   "cell_type": "markdown",
   "metadata": {},
   "source": [
    "### quiz\n",
    "- 100 ~ 138까지 랜덤한 숫자를 가지는 8*8행렬을 만들고,\n",
    "- 3의 배수는 fiz, 5의 배수는 buz, 3과 5의 배수는 fbx 문자로 변환\n",
    "- 랜덤한 행렬 데이터\n",
    "\n",
    "```\n",
    "datas = np.random.randint(100, 130, size=(8,8))\n",
    "```\n",
    "\n",
    "- 데이터 타입을 정수 -> 문자열 : ndarray.astype()"
   ]
  },
  {
   "cell_type": "code",
   "execution_count": 2,
   "metadata": {},
   "outputs": [],
   "source": [
    "import numpy as np"
   ]
  },
  {
   "cell_type": "code",
   "execution_count": 3,
   "metadata": {},
   "outputs": [
    {
     "data": {
      "text/plain": [
       "array([[110, 105, 103, 115, 125, 102, 108, 123],\n",
       "       [115, 119, 106, 118, 118, 128, 115, 125],\n",
       "       [105, 123, 102, 125, 114, 102, 117, 117],\n",
       "       [122, 126, 102, 105, 106, 103, 121, 107],\n",
       "       [106, 105, 107, 118, 112, 100, 117, 114],\n",
       "       [111, 113, 114, 119, 128, 116, 111, 100],\n",
       "       [127, 127, 103, 107, 115, 109, 101, 111],\n",
       "       [117, 119, 101, 105, 102, 117, 122, 114]])"
      ]
     },
     "execution_count": 3,
     "metadata": {},
     "output_type": "execute_result"
    }
   ],
   "source": [
    "datas = np.random.randint(100, 130, size=(8,8))\n",
    "datas"
   ]
  },
  {
   "cell_type": "code",
   "execution_count": 4,
   "metadata": {},
   "outputs": [
    {
     "data": {
      "text/plain": [
       "array([1, 3])"
      ]
     },
     "execution_count": 4,
     "metadata": {},
     "output_type": "execute_result"
    }
   ],
   "source": [
    "data1 = np.array([1,2,3])\n",
    "data2 = [True, False, True]\n",
    "data1[data2]"
   ]
  },
  {
   "cell_type": "code",
   "execution_count": 8,
   "metadata": {},
   "outputs": [],
   "source": [
    "# 3의 배수, 5의 배수, 15의 배수 위치값에 대한 T, F matrix 생성\n",
    "idx_3 = datas % 3 == 0 \n",
    "idx_5 = datas % 5 == 0 \n",
    "idx_15 = datas % 15 == 0 "
   ]
  },
  {
   "cell_type": "code",
   "execution_count": 9,
   "metadata": {},
   "outputs": [
    {
     "data": {
      "text/plain": [
       "dtype('int32')"
      ]
     },
     "execution_count": 9,
     "metadata": {},
     "output_type": "execute_result"
    }
   ],
   "source": [
    "# 데이터의 타입을 str으로 변환\n",
    "datas.dtype"
   ]
  },
  {
   "cell_type": "code",
   "execution_count": 10,
   "metadata": {},
   "outputs": [
    {
     "data": {
      "text/plain": [
       "array([['110', '105', '103', '115', '125', '102', '108', '123'],\n",
       "       ['115', '119', '106', '118', '118', '128', '115', '125'],\n",
       "       ['105', '123', '102', '125', '114', '102', '117', '117'],\n",
       "       ['122', '126', '102', '105', '106', '103', '121', '107'],\n",
       "       ['106', '105', '107', '118', '112', '100', '117', '114'],\n",
       "       ['111', '113', '114', '119', '128', '116', '111', '100'],\n",
       "       ['127', '127', '103', '107', '115', '109', '101', '111'],\n",
       "       ['117', '119', '101', '105', '102', '117', '122', '114']],\n",
       "      dtype='<U11')"
      ]
     },
     "execution_count": 10,
     "metadata": {},
     "output_type": "execute_result"
    }
   ],
   "source": [
    "result = datas.astype(\"str\")\n",
    "result"
   ]
  },
  {
   "cell_type": "code",
   "execution_count": 11,
   "metadata": {},
   "outputs": [
    {
     "data": {
      "text/plain": [
       "array([['buz', 'bfz', '103', 'buz', 'buz', 'fiz', 'fiz', 'fiz'],\n",
       "       ['buz', '119', '106', '118', '118', '128', 'buz', 'buz'],\n",
       "       ['bfz', 'fiz', 'fiz', 'buz', 'fiz', 'fiz', 'fiz', 'fiz'],\n",
       "       ['122', 'fiz', 'fiz', 'bfz', '106', '103', '121', '107'],\n",
       "       ['106', 'bfz', '107', '118', '112', 'buz', 'fiz', 'fiz'],\n",
       "       ['fiz', '113', 'fiz', '119', '128', '116', 'fiz', 'buz'],\n",
       "       ['127', '127', '103', '107', 'buz', '109', '101', 'fiz'],\n",
       "       ['fiz', '119', '101', 'bfz', 'fiz', 'fiz', '122', 'fiz']],\n",
       "      dtype='<U11')"
      ]
     },
     "execution_count": 11,
     "metadata": {},
     "output_type": "execute_result"
    }
   ],
   "source": [
    "# T, F matrix를 이용하여 특정 조건의 데이터를 선택 후 브로드캐스팅하게 값을 대입\n",
    "result[idx_3] = \"fiz\"\n",
    "result[idx_5] = \"buz\"\n",
    "result[idx_15] = \"bfz\"\n",
    "\n",
    "result"
   ]
  },
  {
   "cell_type": "markdown",
   "metadata": {},
   "source": [
    "### Quiz\n",
    "- 1 ~ 20 까지 랜덤한 숫자를 가지는 5*5 행렬 생성\n",
    "- 최대값에는 MAX, 최소값에는 MIN 문자열이 들어가도록 치환하는 코드\n",
    "- 최대값과 최소값 함수\n",
    "\n",
    "```\n",
    "np.min(ndarray), np.max(ndarray)\n",
    "```"
   ]
  },
  {
   "cell_type": "code",
   "execution_count": 13,
   "metadata": {},
   "outputs": [
    {
     "data": {
      "text/plain": [
       "array([[ 5, 19,  2, 16, 14],\n",
       "       [12, 18, 14,  3, 14],\n",
       "       [ 3, 19, 13, 10,  5],\n",
       "       [ 2, 10, 16, 15, 10],\n",
       "       [19, 13, 13,  4,  1]])"
      ]
     },
     "execution_count": 13,
     "metadata": {},
     "output_type": "execute_result"
    }
   ],
   "source": [
    "q2 = np.random.randint(1,20,(5,5))\n",
    "q2"
   ]
  },
  {
   "cell_type": "code",
   "execution_count": 15,
   "metadata": {},
   "outputs": [
    {
     "data": {
      "text/plain": [
       "(1, 19)"
      ]
     },
     "execution_count": 15,
     "metadata": {},
     "output_type": "execute_result"
    }
   ],
   "source": [
    "min_num, max_num = np.min(q2), np.max(q2)\n",
    "min_num, max_num"
   ]
  },
  {
   "cell_type": "code",
   "execution_count": 16,
   "metadata": {},
   "outputs": [],
   "source": [
    "idx_min = q2 == min_num\n",
    "idx_max = q2 == max_num"
   ]
  },
  {
   "cell_type": "code",
   "execution_count": 20,
   "metadata": {},
   "outputs": [
    {
     "data": {
      "text/plain": [
       "array([['5', 'MAX', '2', '16', '14'],\n",
       "       ['12', '18', '14', '3', '14'],\n",
       "       ['3', 'MAX', '13', '10', '5'],\n",
       "       ['2', '10', '16', '15', '10'],\n",
       "       ['MAX', '13', '13', '4', 'MIN']], dtype='<U11')"
      ]
     },
     "execution_count": 20,
     "metadata": {},
     "output_type": "execute_result"
    }
   ],
   "source": [
    "result = q2.astype(\"str\")\n",
    "\n",
    "result[idx_min] = \"MIN\"\n",
    "result[idx_max] = \"MAX\"\n",
    "\n",
    "result"
   ]
  },
  {
   "cell_type": "code",
   "execution_count": null,
   "metadata": {},
   "outputs": [],
   "source": []
  },
  {
   "cell_type": "code",
   "execution_count": null,
   "metadata": {},
   "outputs": [],
   "source": []
  },
  {
   "cell_type": "code",
   "execution_count": null,
   "metadata": {},
   "outputs": [],
   "source": []
  },
  {
   "cell_type": "code",
   "execution_count": null,
   "metadata": {},
   "outputs": [],
   "source": []
  },
  {
   "cell_type": "code",
   "execution_count": null,
   "metadata": {},
   "outputs": [],
   "source": []
  },
  {
   "cell_type": "code",
   "execution_count": null,
   "metadata": {},
   "outputs": [],
   "source": []
  },
  {
   "cell_type": "code",
   "execution_count": null,
   "metadata": {},
   "outputs": [],
   "source": []
  },
  {
   "cell_type": "code",
   "execution_count": null,
   "metadata": {},
   "outputs": [],
   "source": []
  },
  {
   "cell_type": "code",
   "execution_count": null,
   "metadata": {},
   "outputs": [],
   "source": []
  },
  {
   "cell_type": "code",
   "execution_count": null,
   "metadata": {},
   "outputs": [],
   "source": []
  }
 ],
 "metadata": {
  "kernelspec": {
   "display_name": "Python 3",
   "language": "python",
   "name": "python3"
  },
  "language_info": {
   "codemirror_mode": {
    "name": "ipython",
    "version": 3
   },
   "file_extension": ".py",
   "mimetype": "text/x-python",
   "name": "python",
   "nbconvert_exporter": "python",
   "pygments_lexer": "ipython3",
   "version": "3.7.6"
  }
 },
 "nbformat": 4,
 "nbformat_minor": 4
}
