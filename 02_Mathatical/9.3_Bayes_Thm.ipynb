{
 "cells": [
  {
   "cell_type": "code",
   "execution_count": 1,
   "metadata": {},
   "outputs": [],
   "source": [
    "xx = np.linspace(0, 1, 1000)\n",
    "a0, b0 = 1, 1\n",
    "plt.plot(xx, sp.stats.beta(a0, b0).pdf(xx), c=\"r\", ls=\"--\", label=\"사전분포\")\n",
    "a1, b1 = 6 + 1, 4 + 1\n",
    "plt.plot(xx, sp.stats.beta(a1, b1).pdf(xx), c=\"g\", ls=\"-\", label=\"사후분포\")\n",
    "plt.legend()\n",
    "plt.title(\"베이즈 추정법으로 계산한 베르누이분포 모수의 분포\")\n",
    "plt.show()"
   ]
  },
  {
   "cell_type": "code",
   "execution_count": 2,
   "metadata": {},
   "outputs": [
    {
     "name": "stdout",
     "output_type": "stream",
     "text": [
      "초기 추정: 모드 = 모름\n",
      "0차 추정: 모드 = 0.64\n",
      "1차 추정: 모드 = 0.69\n",
      "2차 추정: 모드 = 0.65\n"
     ]
    }
   ],
   "source": [
    "mu0 = 0.65\n",
    "a, b = 1, 1\n",
    "print(\"초기 추정: 모드 = 모름\")\n",
    "\n",
    "xx = np.linspace(0, 1, 1000)\n",
    "plt.plot(xx, sp.stats.beta(a, b).pdf(xx), ls=\":\", label=\"초기 추정\")\n",
    "\n",
    "np.random.seed(0)\n",
    "\n",
    "for i in range(3):\n",
    "    x = sp.stats.bernoulli(mu0).rvs(50)\n",
    "    N0, N1 = np.bincount(x, minlength=2)\n",
    "    a, b = a + N1, b + N0\n",
    "    plt.plot(xx, sp.stats.beta(a, b).pdf(xx), ls=\"-.\", label=\"{}차 추정\".format(i))\n",
    "    print(\"{}차 추정: 모드 = {:4.2f}\".format(i, (a - 1)/(a + b - 2)))\n",
    "\n",
    "\n",
    "plt.vlines(x=0.65, ymin=0, ymax=12)\n",
    "plt.ylim(0, 12)\n",
    "plt.legend()\n",
    "plt.title(\"베르누이분포의 모수를 베이즈 추정법으로 추정한 결과\")\n",
    "plt.show()"
   ]
  },
  {
   "cell_type": "code",
   "execution_count": 3,
   "metadata": {},
   "outputs": [],
   "source": [
    "def plot_dirichlet(alpha, n):\n",
    "\n",
    "    def project(x):\n",
    "        n1 = np.array([1, 0, 0])\n",
    "        n2 = np.array([0, 1, 0])\n",
    "        n3 = np.array([0, 0, 1])\n",
    "        n12 = (n1 + n2)/2\n",
    "        m1 = np.array([1, -1, 0])\n",
    "        m2 = n3 - n12\n",
    "        m1 = m1/np.linalg.norm(m1)\n",
    "        m2 = m2/np.linalg.norm(m2)\n",
    "        return np.dstack([(x-n12).dot(m1), (x-n12).dot(m2)])[0]\n",
    "\n",
    "    def project_reverse(x):\n",
    "        n1 = np.array([1, 0, 0])\n",
    "        n2 = np.array([0, 1, 0])\n",
    "        n3 = np.array([0, 0, 1])\n",
    "        n12 = (n1 + n2)/2\n",
    "        m1 = np.array([1, -1, 0])\n",
    "        m2 = n3 - n12\n",
    "        m1 = m1/np.linalg.norm(m1)\n",
    "        m2 = m2/np.linalg.norm(m2)\n",
    "        return x[:, 0][:, np.newaxis] * m1 + x[:, 1][:, np.newaxis] * m2 + n12\n",
    "\n",
    "    eps = np.finfo(float).eps * 10\n",
    "    X = project([[1-eps, 0, 0], [0, 1-eps, 0], [0, 0, 1-eps]])\n",
    "\n",
    "    import matplotlib.tri as mtri\n",
    "\n",
    "    triang = mtri.Triangulation(X[:, 0], X[:, 1], [[0, 1, 2]])\n",
    "    refiner = mtri.UniformTriRefiner(triang)\n",
    "    triang2 = refiner.refine_triangulation(subdiv=6)\n",
    "    XYZ = project_reverse(\n",
    "        np.dstack([triang2.x, triang2.y, 1-triang2.x-triang2.y])[0])\n",
    "\n",
    "    pdf = sp.stats.dirichlet(alpha).pdf(XYZ.T)\n",
    "    plt.tricontourf(triang2, pdf, cmap=plt.cm.bone_r)\n",
    "    plt.axis(\"equal\")\n",
    "    plt.title(\"정규분포 확률변수의 모수를 베이즈 추정법으로 추정한 결과: {} 추정\".format(n))\n",
    "    plt.show()\n",
    "\n",
    "mu0 = np.array([0.3, 0.5, 0.2])\n",
    "\n",
    "np.random.seed(0)"
   ]
  },
  {
   "cell_type": "code",
   "execution_count": 4,
   "metadata": {},
   "outputs": [],
   "source": [
    "a0 = np.ones(3)\n",
    "plot_dirichlet(a0, \"초기\")"
   ]
  },
  {
   "cell_type": "code",
   "execution_count": 5,
   "metadata": {},
   "outputs": [
    {
     "name": "stdout",
     "output_type": "stream",
     "text": [
      "종류별 붓꽃의 수 =[10 32  8]\n",
      "1차 추정 하이퍼모수: [0.2  0.64 0.16]\n"
     ]
    }
   ],
   "source": [
    "x1 = np.random.choice(3, 50, p=mu0)\n",
    "N1 = np.bincount(x1, minlength=3)\n",
    "a1 = a0 + N1\n",
    "\n",
    "print(\"종류별 붓꽃의 수 ={}\".format(N1))\n",
    "print(\"1차 추정 하이퍼모수:\", (a1 - 1)/(a1.sum() - 3))\n",
    "\n",
    "plot_dirichlet(a1, \"1차\")"
   ]
  },
  {
   "cell_type": "code",
   "execution_count": 6,
   "metadata": {},
   "outputs": [
    {
     "name": "stdout",
     "output_type": "stream",
     "text": [
      "종류별 붓꽃의 수 =[24 19  7]\n",
      "2차 추정 하이퍼모수: [0.34 0.51 0.15]\n"
     ]
    }
   ],
   "source": [
    "x2 = np.random.choice(3, 50, p=mu0)\n",
    "N2 = np.bincount(x2, minlength=3)\n",
    "a2 = a1 + N2\n",
    "\n",
    "print(\"종류별 붓꽃의 수 ={}\".format(N2))\n",
    "print(\"2차 추정 하이퍼모수:\", (a2 - 1)/(a2.sum() - 3))\n",
    "\n",
    "plot_dirichlet(a2, \"2차\")"
   ]
  },
  {
   "cell_type": "code",
   "execution_count": 7,
   "metadata": {},
   "outputs": [
    {
     "name": "stdout",
     "output_type": "stream",
     "text": [
      "0차 추정: 1.98\n",
      "1차 추정: 2.07\n",
      "2차 추정: 2.05\n",
      "3차 추정: 2.03\n"
     ]
    }
   ],
   "source": [
    "mu, sigma2 = 2, 4\n",
    "mu0, sigma20 = 0, 1\n",
    "xx = np.linspace(1.8, 2.2, 1000)\n",
    "np.random.seed(1)\n",
    "N = 100\n",
    "ls = [\":\", \"-.\", \"--\", \"-\"]\n",
    "for i in range(4):\n",
    "    x = sp.stats.norm(mu).rvs(N)\n",
    "    mu0 = sigma2/(N*sigma20 + sigma2) * mu0 + \\\n",
    "        (N*sigma20)/(N*sigma20 + sigma2)*x.mean()\n",
    "    sigma20 = 1/(1/sigma20 + N/sigma2)\n",
    "    plt.plot(xx, sp.stats.norm(mu0, sigma20).pdf(xx), ls=ls[i], label=\"{}차 추정\".format(i))\n",
    "    print(\"{}차 추정: {:4.2f}\".format(i, mu0))\n",
    "plt.legend()\n",
    "plt.title(\"정규분포의 기댓값을 베이즈 추정법으로 추정한 결과\")\n",
    "plt.show()"
   ]
  }
 ],
 "metadata": {
  "kernelspec": {
   "display_name": "Python 3",
   "language": "python",
   "name": "python3"
  },
  "language_info": {
   "codemirror_mode": {
    "name": "ipython",
    "version": 3
   },
   "file_extension": ".py",
   "mimetype": "text/x-python",
   "name": "python",
   "nbconvert_exporter": "python",
   "pygments_lexer": "ipython3",
   "version": "3.7.7"
  }
 },
 "nbformat": 4,
 "nbformat_minor": 4
}
