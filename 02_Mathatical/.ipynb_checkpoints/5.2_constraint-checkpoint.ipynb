{
 "cells": [
  {
   "cell_type": "code",
   "execution_count": 1,
   "metadata": {},
   "outputs": [],
   "source": [
    "# 경고 무시\n",
    "import warnings\n",
    "warnings.simplefilter('ignore')\n",
    "\n",
    "# basic\n",
    "import time\n",
    "import random\n",
    "\n",
    "# 자주 사용하는 패키지를 임포트\n",
    "import matplotlib as mpl\n",
    "import matplotlib.pylab as plt\n",
    "from mpl_toolkits.mplot3d import Axes3D\n",
    "import seaborn as sns\n",
    "import numpy as np\n",
    "import scipy as sp\n",
    "import pandas as pd\n",
    "import statsmodels.api as sm\n",
    "import sklearn as sk\n",
    "\n",
    "# web crawling\n",
    "import requests\n",
    "from bs4 import BeautifulSoup\n",
    "\n",
    "# matplotlib 설정\n",
    "mpl.use('Agg')\n",
    "\n",
    "# seaborn 설정\n",
    "sns.set()\n",
    "sns.set_style(\"whitegrid\")\n",
    "sns.set_color_codes()"
   ]
  },
  {
   "cell_type": "code",
   "execution_count": 2,
   "metadata": {},
   "outputs": [],
   "source": [
    "# 목적함수 f(x) = x1^2 + x2^2\n",
    "def f1(x1, x2):\n",
    "    return x1 ** 2 + x2 ** 2\n",
    "\n",
    "x1 = np.linspace(-5, 5, 100)\n",
    "x2 = np.linspace(-3, 3, 100)\n",
    "X1, X2 = np.meshgrid(x1, x2)\n",
    "Y = f1(X1, X2)\n",
    "\n",
    "# 등식 제한조건 방정식 g(x) = x1 + x2 - 1 = 0\n",
    "x2_g = 1 - x1\n",
    "\n",
    "plt.contour(X1, X2, Y, colors=\"gray\", levels=[0.5, 2, 8, 32])\n",
    "plt.plot(x1, x2_g, 'g-')\n",
    "\n",
    "plt.plot([0], [0], 'rP')\n",
    "plt.plot([0.5], [0.5], 'ro', ms=10)\n",
    "\n",
    "plt.xlim(-5, 5)\n",
    "plt.ylim(-3, 3)\n",
    "plt.xticks(np.linspace(-4, 4, 9))\n",
    "plt.xlabel(\"$x_1$\")\n",
    "plt.ylabel(\"$x_2$\")\n",
    "plt.title(\"등식 제한조건이 있는 최적화 문제\")\n",
    "plt.show()"
   ]
  },
  {
   "cell_type": "code",
   "execution_count": 3,
   "metadata": {},
   "outputs": [
    {
     "name": "stdout",
     "output_type": "stream",
     "text": [
      "Optimization terminated successfully.    (Exit mode 0)\n",
      "            Current function value: 0.5000000000000002\n",
      "            Iterations: 2\n",
      "            Function evaluations: 8\n",
      "            Gradient evaluations: 2\n"
     ]
    },
    {
     "data": {
      "text/plain": [
       "array([0.5, 0.5])"
      ]
     },
     "execution_count": 3,
     "metadata": {},
     "output_type": "execute_result"
    }
   ],
   "source": [
    "# sp.optimize.fmin_slsqp(func_objective, x0, eqcons=[func_constraint1, func_constraint2])\n",
    "\n",
    "def f1array(x):\n",
    "    return x[0] ** 2 + x[1] ** 2\n",
    "\n",
    "\n",
    "def eq_constraint(x):\n",
    "    return x[0] + x[1] - 1\n",
    "\n",
    "\n",
    "sp.optimize.fmin_slsqp(f1array, np.array([1, 1]), eqcons=[eq_constraint])"
   ]
  },
  {
   "cell_type": "code",
   "execution_count": 4,
   "metadata": {},
   "outputs": [],
   "source": [
    "plt.figure(figsize=(13, 7))\n",
    "ax1 = plt.subplot(121)\n",
    "plt.contour(X1, X2, Y, colors=\"gray\", levels=[0.5, 2, 8])\n",
    "plt.plot(x1, x2_g, 'g-')\n",
    "ax1.fill_between(x1, -20, x2_g, alpha=0.5)\n",
    "plt.plot([0], [0], 'ro', ms=10)\n",
    "plt.xlim(-3, 3)\n",
    "plt.ylim(-5, 5)\n",
    "plt.xticks(np.linspace(-4, 4, 9))\n",
    "plt.yticks(np.linspace(-5, 5, 11))\n",
    "plt.xlabel(\"$x_1$\")\n",
    "plt.ylabel(\"$x_2$\")\n",
    "plt.title(\"최적해가 부등식과 관계없는 경우\")\n",
    "ax2 = plt.subplot(122)\n",
    "plt.contour(X1, X2, Y, colors=\"gray\", levels=[0.5, 2, 8])\n",
    "plt.plot(x1, x2_g, 'g-')\n",
    "ax2.fill_between(x1, 20, x2_g, alpha=0.5)\n",
    "plt.plot([0.5], [0.5], 'ro', ms=10)\n",
    "plt.xlabel(\"x_1\")\n",
    "plt.xlim(-3, 3)\n",
    "plt.ylim(-5, 5)\n",
    "plt.xticks(np.linspace(-4, 4, 9))\n",
    "plt.yticks(np.linspace(-5, 5, 11))\n",
    "plt.xlabel(\"$x_1$\")\n",
    "plt.ylabel(\"$x_2$\")\n",
    "plt.title(\"최적해가 부등식에 의해 결정되는 경우\")\n",
    "plt.suptitle(\"부등식 제한조건이 있는 최적화 문제\")\n",
    "plt.show()"
   ]
  },
  {
   "cell_type": "code",
   "execution_count": 6,
   "metadata": {},
   "outputs": [],
   "source": [
    "def f2plt(x1, x2):\n",
    "    return np.sqrt((x1 - 4) ** 2 + (x2 - 2) ** 2)\n",
    "\n",
    "\n",
    "x1 = np.linspace(-2, 5, 100)\n",
    "x2 = np.linspace(-1.5, 3, 100)\n",
    "X1, X2 = np.meshgrid(x1, x2)\n",
    "Y = f2plt(X1, X2)\n",
    "\n",
    "plt.contour(X1, X2, Y, colors=\"gray\",\n",
    "            levels=np.arange(0.5, 5, 0.5) * np.sqrt(2))\n",
    "\n",
    "# 제한 조건의 상수\n",
    "k = 1\n",
    "ax = plt.gca()\n",
    "x12 = np.linspace(-k, 0, 10)\n",
    "x13 = np.linspace(0, k, 10)\n",
    "ax.fill_between(x12, x12 + k, -k - x12, color='g', alpha=0.5)\n",
    "ax.fill_between(x13, x13 - k, k - x13, color='g', alpha=0.5)\n",
    "\n",
    "# 최적점 위치\n",
    "x1_sol = 1\n",
    "x2_sol = 0\n",
    "plt.plot(x1_sol, x2_sol, 'ro', ms=20)\n",
    "\n",
    "plt.xlim(-2, 5)\n",
    "plt.ylim(-1.5, 3)\n",
    "plt.xticks(np.linspace(-2, 5, 8))\n",
    "plt.yticks(np.linspace(-1, 3, 5))\n",
    "plt.xlabel(\"$x_1$\")\n",
    "plt.ylabel(\"$x_2$\")\n",
    "plt.title(\"$|x_1| + |x_2| \\leq {}$ 제한조건을 가지는 최적화 문제\".format(k))\n",
    "plt.show()"
   ]
  },
  {
   "cell_type": "code",
   "execution_count": 7,
   "metadata": {},
   "outputs": [
    {
     "name": "stdout",
     "output_type": "stream",
     "text": [
      "Optimization terminated successfully.    (Exit mode 0)\n",
      "            Current function value: 3.605551280732028\n",
      "            Iterations: 11\n",
      "            Function evaluations: 77\n",
      "            Gradient evaluations: 11\n"
     ]
    },
    {
     "data": {
      "text/plain": [
       "array([9.99999981e-01, 1.89941792e-08])"
      ]
     },
     "execution_count": 7,
     "metadata": {},
     "output_type": "execute_result"
    }
   ],
   "source": [
    "def f2(x):\n",
    "    return np.sqrt((x[0] - 4) ** 2 + (x[1] - 2) ** 2)\n",
    "\n",
    "# 제한 조건 상수\n",
    "k = 1\n",
    "def ieq_constraint(x):\n",
    "    return np.atleast_1d(k - np.sum(np.abs(x)))\n",
    "\n",
    "\n",
    "sp.optimize.fmin_slsqp(f2, np.array([0, 0]), ieqcons=[ieq_constraint])"
   ]
  },
  {
   "cell_type": "code",
   "execution_count": 8,
   "metadata": {},
   "outputs": [
    {
     "name": "stdout",
     "output_type": "stream",
     "text": [
      "Optimization terminated successfully.    (Exit mode 0)\n",
      "            Current function value: 2.8284287493322235\n",
      "            Iterations: 8\n",
      "            Function evaluations: 38\n",
      "            Gradient evaluations: 8\n"
     ]
    },
    {
     "data": {
      "text/plain": [
       "array([1.9978564, 0.0021436])"
      ]
     },
     "execution_count": 8,
     "metadata": {},
     "output_type": "execute_result"
    }
   ],
   "source": [
    "def f2(x):\n",
    "    return np.sqrt((x[0] - 4) ** 2 + (x[1] - 2) ** 2)\n",
    "\n",
    "# 제한 조건 상수\n",
    "k = 2\n",
    "def ieq_constraint(x):\n",
    "    return np.atleast_1d(k - np.sum(np.abs(x)))\n",
    "\n",
    "\n",
    "sp.optimize.fmin_slsqp(f2, np.array([0, 0]), ieqcons=[ieq_constraint])"
   ]
  }
 ],
 "metadata": {
  "kernelspec": {
   "display_name": "Python 3",
   "language": "python",
   "name": "python3"
  },
  "language_info": {
   "codemirror_mode": {
    "name": "ipython",
    "version": 3
   },
   "file_extension": ".py",
   "mimetype": "text/x-python",
   "name": "python",
   "nbconvert_exporter": "python",
   "pygments_lexer": "ipython3",
   "version": "3.7.6"
  }
 },
 "nbformat": 4,
 "nbformat_minor": 4
}
