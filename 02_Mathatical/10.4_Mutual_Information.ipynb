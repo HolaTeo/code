{
 "cells": [
  {
   "cell_type": "markdown",
   "metadata": {},
   "source": [
    "### 상호정보량\n",
    "- 이 절에서는 상관계수를 대체할 수 있는 확률변수 특성인 상호정보량에 대해 공부한다.\n",
    "- 상관관계의 정도를 거리로 나타내는 방법\n",
    "- $MI[X,Y] = KL\\big(p(x,y)||p(x)p(y)\\big)\n",
    "= \\sum_{i=1}^{K} p(x_i,y_i) \\log_2 \\left(\\dfrac{p(x_i,y_i)}{p(x_i)p(y_i)}\\right)$\n",
    "- $MI[X,Y] = H[X] - H[X|Y]$\n",
    "- 값이 크게 나오면 상관관계가 크다"
   ]
  },
  {
   "cell_type": "code",
   "execution_count": 1,
   "metadata": {},
   "outputs": [],
   "source": [
    "# 경고 무시\n",
    "import warnings\n",
    "warnings.simplefilter('ignore')\n",
    "\n",
    "# 자주 사용하는 패키지를 임포트\n",
    "import matplotlib as mpl\n",
    "import matplotlib.pylab as plt\n",
    "from mpl_toolkits.mplot3d import Axes3D\n",
    "import seaborn as sns\n",
    "import numpy as np\n",
    "import scipy as sp\n",
    "import pandas as pd\n",
    "import statsmodels.api as sm\n",
    "import sklearn as sk\n",
    "import pgmpy\n",
    "import scipy.stats\n",
    "\n",
    "# matplotlib 설정\n",
    "mpl.use('Agg')\n",
    "\n",
    "# seaborn 설정\n",
    "sns.set()\n",
    "sns.set_style(\"whitegrid\")\n",
    "sns.set_color_codes()"
   ]
  },
  {
   "cell_type": "code",
   "execution_count": 2,
   "metadata": {},
   "outputs": [
    {
     "data": {
      "image/png": "[encoded data removed]",
      "text/plain": [
       "<Figure size 432x288 with 1 Axes>"
      ]
     },
     "metadata": {
      "needs_background": "light"
     },
     "output_type": "display_data"
    }
   ],
   "source": [
    "from sklearn.datasets import fetch_20newsgroups\n",
    "from sklearn.feature_extraction.text import CountVectorizer\n",
    "from sklearn.metrics import mutual_info_score\n",
    "\n",
    "%matplotlib inline\n",
    "\n",
    "categories = ['rec.autos', 'sci.med', 'rec.sport.baseball']\n",
    "newsgroups = fetch_20newsgroups(subset='train', categories=categories)\n",
    "vect = CountVectorizer(stop_words=\"english\", token_pattern=\"[a-zA-Z]+\")\n",
    "X = vect.fit_transform(newsgroups.data).toarray()\n",
    "y = newsgroups.target\n",
    "\n",
    "mi = np.array([mutual_info_score(X[:, i], y) for i in range(X.shape[0])])\n",
    "plt.stem(mi)\n",
    "plt.title(\"뉴스그룹 카테고리와 키워드 사이의 상호정보량\")\n",
    "plt.xlabel(\"키워드 번호\")\n",
    "plt.show()"
   ]
  },
  {
   "cell_type": "code",
   "execution_count": 3,
   "metadata": {},
   "outputs": [
    {
     "data": {
      "text/plain": [
       "['baseball',\n",
       " 'banks',\n",
       " 'automotive',\n",
       " 'auto',\n",
       " 'ball',\n",
       " 'autos',\n",
       " 'batting',\n",
       " 'atlanta',\n",
       " 'alomar',\n",
       " 'bat']"
      ]
     },
     "execution_count": 3,
     "metadata": {},
     "output_type": "execute_result"
    }
   ],
   "source": [
    "inv_vocabulary = {v: k for k, v in vect.vocabulary_.items()}\n",
    "idx = np.flip(np.argsort(mi))\n",
    "[inv_vocabulary[idx[i]] for i in range(10)]"
   ]
  },
  {
   "cell_type": "markdown",
   "metadata": {},
   "source": [
    "### 최대정보 상관계수(maximal information coefficient, MIC)"
   ]
  },
  {
   "cell_type": "code",
   "execution_count": 3,
   "metadata": {},
   "outputs": [
    {
     "name": "stdout",
     "output_type": "stream",
     "text": [
      "Collecting package metadata (current_repodata.json): ...working... done\n",
      "Solving environment: ...working... failed with initial frozen solve. Retrying with flexible solve.\n",
      "Collecting package metadata (repodata.json): ...working... done\n",
      "Solving environment: ...working... failed with initial frozen solve. Retrying with flexible solve.\n",
      "\n",
      "Note: you may need to restart the kernel to use updated packages.\n"
     ]
    },
    {
     "name": "stderr",
     "output_type": "stream",
     "text": [
      "\n",
      "PackagesNotFoundError: The following packages are not available from current channels:\n",
      "\n",
      "  - minepy\n",
      "\n",
      "Current channels:\n",
      "\n",
      "  - https://repo.anaconda.com/pkgs/main/win-64\n",
      "  - https://repo.anaconda.com/pkgs/main/noarch\n",
      "  - https://repo.anaconda.com/pkgs/r/win-64\n",
      "  - https://repo.anaconda.com/pkgs/r/noarch\n",
      "  - https://repo.anaconda.com/pkgs/msys2/win-64\n",
      "  - https://repo.anaconda.com/pkgs/msys2/noarch\n",
      "\n",
      "To search for alternate channels that may provide the conda package you're\n",
      "looking for, navigate to\n",
      "\n",
      "    https://anaconda.org\n",
      "\n",
      "and use the search bar at the top of the page.\n",
      "\n",
      "\n"
     ]
    }
   ],
   "source": [
    "conda install minepy"
   ]
  },
  {
   "cell_type": "code",
   "execution_count": 4,
   "metadata": {},
   "outputs": [
    {
     "ename": "ModuleNotFoundError",
     "evalue": "No module named 'minepy'",
     "output_type": "error",
     "traceback": [
      "\u001b[1;31m---------------------------------------------------------------------------\u001b[0m",
      "\u001b[1;31mModuleNotFoundError\u001b[0m                       Traceback (most recent call last)",
      "\u001b[1;32m<ipython-input-4-d62d39fa2a33>\u001b[0m in \u001b[0;36m<module>\u001b[1;34m\u001b[0m\n\u001b[1;32m----> 1\u001b[1;33m \u001b[1;32mfrom\u001b[0m \u001b[0mminepy\u001b[0m \u001b[1;32mimport\u001b[0m \u001b[0mMINE\u001b[0m\u001b[1;33m\u001b[0m\u001b[1;33m\u001b[0m\u001b[0m\n\u001b[0m",
      "\u001b[1;31mModuleNotFoundError\u001b[0m: No module named 'minepy'"
     ]
    }
   ],
   "source": [
    "from minepy import MINE"
   ]
  },
  {
   "cell_type": "code",
   "execution_count": 5,
   "metadata": {},
   "outputs": [
    {
     "ename": "NameError",
     "evalue": "name 'MINE' is not defined",
     "output_type": "error",
     "traceback": [
      "\u001b[1;31m---------------------------------------------------------------------------\u001b[0m",
      "\u001b[1;31mNameError\u001b[0m                                 Traceback (most recent call last)",
      "\u001b[1;32m<ipython-input-5-ccd2a74623cf>\u001b[0m in \u001b[0;36m<module>\u001b[1;34m\u001b[0m\n\u001b[1;32m----> 1\u001b[1;33m \u001b[0mmine\u001b[0m \u001b[1;33m=\u001b[0m \u001b[0mMINE\u001b[0m\u001b[1;33m(\u001b[0m\u001b[1;33m)\u001b[0m\u001b[1;33m\u001b[0m\u001b[1;33m\u001b[0m\u001b[0m\n\u001b[0m\u001b[0;32m      2\u001b[0m \u001b[1;33m\u001b[0m\u001b[0m\n\u001b[0;32m      3\u001b[0m \u001b[0mn\u001b[0m \u001b[1;33m=\u001b[0m \u001b[1;36m500\u001b[0m\u001b[1;33m\u001b[0m\u001b[1;33m\u001b[0m\u001b[0m\n\u001b[0;32m      4\u001b[0m \u001b[1;33m\u001b[0m\u001b[0m\n\u001b[0;32m      5\u001b[0m \u001b[0mplt\u001b[0m\u001b[1;33m.\u001b[0m\u001b[0mfigure\u001b[0m\u001b[1;33m(\u001b[0m\u001b[0mfigsize\u001b[0m\u001b[1;33m=\u001b[0m\u001b[1;33m(\u001b[0m\u001b[1;36m8\u001b[0m\u001b[1;33m,\u001b[0m \u001b[1;36m6\u001b[0m\u001b[1;33m)\u001b[0m\u001b[1;33m)\u001b[0m\u001b[1;33m\u001b[0m\u001b[1;33m\u001b[0m\u001b[0m\n",
      "\u001b[1;31mNameError\u001b[0m: name 'MINE' is not defined"
     ]
    }
   ],
   "source": [
    "mine = MINE()\n",
    "\n",
    "n = 500\n",
    "\n",
    "plt.figure(figsize=(8, 6))\n",
    "\n",
    "plt.subplot(231)\n",
    "x1 = np.random.uniform(-1, 1, n)\n",
    "y1 = 2*x1**2 + np.random.uniform(-1, 1, n)\n",
    "plt.scatter(x1, y1)\n",
    "mine.compute_score(x1, y1)\n",
    "plt.title(\"MIC={0:0.3f}\".format(mine.mic()))\n",
    "\n",
    "plt.subplot(232)\n",
    "x2 = np.random.uniform(-1, 1, n)\n",
    "y2 = 4*(x2**2-0.5)**2 + np.random.uniform(-1, 1, n)/5\n",
    "plt.scatter(x2, y2)\n",
    "mine.compute_score(x2, y2)\n",
    "plt.title(\"MIC={0:0.3f}\".format(mine.mic()))\n",
    "\n",
    "plt.subplot(233)\n",
    "x3 = np.random.uniform(-1, 1, n)\n",
    "y3 = np.cos(x3 * np.pi) + np.random.uniform(0, 1/8, n)\n",
    "x3 = np.sin(x3 * np.pi) + np.random.uniform(0, 1/8, n)\n",
    "plt.scatter(x3, y3)\n",
    "mine.compute_score(x3, y3)\n",
    "plt.title(\"MIC={0:0.3f}\".format(mine.mic()))\n",
    "\n",
    "plt.subplot(234)\n",
    "x4 = np.random.uniform(-1, 1, n)\n",
    "y4 = np.random.uniform(-1, 1, n)\n",
    "plt.scatter(x4, y4)\n",
    "mine.compute_score(x4, y4)\n",
    "plt.title(\"MIC={0:0.3f}\".format(mine.mic()))\n",
    "\n",
    "plt.subplot(235)\n",
    "x5 = np.random.uniform(-1, 1, n)\n",
    "y5 = (x5**2 + np.random.uniform(0, 0.5, n)) * np.array([-1, 1])[np.random.random_integers(0, 1, size=n)]\n",
    "plt.scatter(x5, y5)\n",
    "mine.compute_score(x5, y5)\n",
    "plt.title(\"MIC={0:0.3f}\".format(mine.mic()))\n",
    "\n",
    "plt.subplot(236)\n",
    "xy1 = np.random.multivariate_normal([3, 3], [[1, 0], [0, 1]], int(n/4))\n",
    "xy2 = np.random.multivariate_normal([-3, 3], [[1, 0], [0, 1]], int(n/4))\n",
    "xy3 = np.random.multivariate_normal([-3, -3], [[1, 0], [0, 1]], int(n/4))\n",
    "xy4 = np.random.multivariate_normal([3, -3], [[1, 0], [0, 1]], int(n/4))\n",
    "xy = np.concatenate((xy1, xy2, xy3, xy4), axis=0)\n",
    "x6 = xy[:, 0]\n",
    "y6 = xy[:, 1]\n",
    "plt.scatter(x6, y6)\n",
    "mine.compute_score(x6, y6)\n",
    "plt.title(\"MIC={0:0.3f}\".format(mine.mic()))\n",
    "\n",
    "plt.tight_layout()\n",
    "plt.show()"
   ]
  },
  {
   "cell_type": "code",
   "execution_count": null,
   "metadata": {},
   "outputs": [],
   "source": []
  }
 ],
 "metadata": {
  "kernelspec": {
   "display_name": "Python 3",
   "language": "python",
   "name": "python3"
  },
  "language_info": {
   "codemirror_mode": {
    "name": "ipython",
    "version": 3
   },
   "file_extension": ".py",
   "mimetype": "text/x-python",
   "name": "python",
   "nbconvert_exporter": "python",
   "pygments_lexer": "ipython3",
   "version": "3.7.7"
  }
 },
 "nbformat": 4,
 "nbformat_minor": 4
}
