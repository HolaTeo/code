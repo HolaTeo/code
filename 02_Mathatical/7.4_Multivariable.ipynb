{
 "cells": [
  {
   "cell_type": "code",
   "execution_count": null,
   "metadata": {},
   "outputs": [],
   "source": [
    "# 결합확률질량함수"
   ]
  },
  {
   "cell_type": "code",
   "execution_count": 1,
   "metadata": {},
   "outputs": [
    {
     "data": {
      "text/html": [
       "<div>\n",
       "<style scoped>\n",
       "    .dataframe tbody tr th:only-of-type {\n",
       "        vertical-align: middle;\n",
       "    }\n",
       "\n",
       "    .dataframe tbody tr th {\n",
       "        vertical-align: top;\n",
       "    }\n",
       "\n",
       "    .dataframe thead th {\n",
       "        text-align: right;\n",
       "    }\n",
       "</style>\n",
       "<table border=\"1\" class=\"dataframe\">\n",
       "  <thead>\n",
       "    <tr style=\"text-align: right;\">\n",
       "      <th>X</th>\n",
       "      <th>A</th>\n",
       "      <th>B</th>\n",
       "      <th>C</th>\n",
       "      <th>D</th>\n",
       "      <th>E</th>\n",
       "      <th>F</th>\n",
       "    </tr>\n",
       "    <tr>\n",
       "      <th>Y</th>\n",
       "      <th></th>\n",
       "      <th></th>\n",
       "      <th></th>\n",
       "      <th></th>\n",
       "      <th></th>\n",
       "      <th></th>\n",
       "    </tr>\n",
       "  </thead>\n",
       "  <tbody>\n",
       "    <tr>\n",
       "      <th>A</th>\n",
       "      <td>1</td>\n",
       "      <td>2</td>\n",
       "      <td>1</td>\n",
       "      <td>0</td>\n",
       "      <td>0</td>\n",
       "      <td>0</td>\n",
       "    </tr>\n",
       "    <tr>\n",
       "      <th>B</th>\n",
       "      <td>0</td>\n",
       "      <td>2</td>\n",
       "      <td>3</td>\n",
       "      <td>1</td>\n",
       "      <td>0</td>\n",
       "      <td>0</td>\n",
       "    </tr>\n",
       "    <tr>\n",
       "      <th>C</th>\n",
       "      <td>0</td>\n",
       "      <td>4</td>\n",
       "      <td>7</td>\n",
       "      <td>4</td>\n",
       "      <td>1</td>\n",
       "      <td>0</td>\n",
       "    </tr>\n",
       "    <tr>\n",
       "      <th>D</th>\n",
       "      <td>0</td>\n",
       "      <td>1</td>\n",
       "      <td>4</td>\n",
       "      <td>5</td>\n",
       "      <td>4</td>\n",
       "      <td>0</td>\n",
       "    </tr>\n",
       "    <tr>\n",
       "      <th>E</th>\n",
       "      <td>0</td>\n",
       "      <td>0</td>\n",
       "      <td>1</td>\n",
       "      <td>3</td>\n",
       "      <td>2</td>\n",
       "      <td>0</td>\n",
       "    </tr>\n",
       "    <tr>\n",
       "      <th>F</th>\n",
       "      <td>0</td>\n",
       "      <td>0</td>\n",
       "      <td>0</td>\n",
       "      <td>1</td>\n",
       "      <td>2</td>\n",
       "      <td>1</td>\n",
       "    </tr>\n",
       "  </tbody>\n",
       "</table>\n",
       "</div>"
      ],
      "text/plain": [
       "X  A  B  C  D  E  F\n",
       "Y                  \n",
       "A  1  2  1  0  0  0\n",
       "B  0  2  3  1  0  0\n",
       "C  0  4  7  4  1  0\n",
       "D  0  1  4  5  4  0\n",
       "E  0  0  1  3  2  0\n",
       "F  0  0  0  1  2  1"
      ]
     },
     "execution_count": 1,
     "metadata": {},
     "output_type": "execute_result"
    }
   ],
   "source": [
    "grades = [\"A\", \"B\", \"C\", \"D\", \"E\", \"F\"]\n",
    "scores = pd.DataFrame(\n",
    "    [[1, 2, 1, 0, 0, 0],\n",
    "     [0, 2, 3, 1, 0, 0],\n",
    "     [0, 4, 7, 4, 1, 0],\n",
    "     [0, 1, 4, 5, 4, 0],\n",
    "     [0, 0, 1, 3, 2, 0],\n",
    "     [0, 0, 0, 1, 2, 1]], \n",
    "    columns=grades, index=grades)\n",
    "scores.index.name = \"Y\"\n",
    "scores.columns.name = \"X\"\n",
    "scores"
   ]
  },
  {
   "cell_type": "code",
   "execution_count": 2,
   "metadata": {},
   "outputs": [
    {
     "data": {
      "text/html": [
       "<div>\n",
       "<style scoped>\n",
       "    .dataframe tbody tr th:only-of-type {\n",
       "        vertical-align: middle;\n",
       "    }\n",
       "\n",
       "    .dataframe tbody tr th {\n",
       "        vertical-align: top;\n",
       "    }\n",
       "\n",
       "    .dataframe thead th {\n",
       "        text-align: right;\n",
       "    }\n",
       "</style>\n",
       "<table border=\"1\" class=\"dataframe\">\n",
       "  <thead>\n",
       "    <tr style=\"text-align: right;\">\n",
       "      <th>X</th>\n",
       "      <th>A</th>\n",
       "      <th>B</th>\n",
       "      <th>C</th>\n",
       "      <th>D</th>\n",
       "      <th>E</th>\n",
       "      <th>F</th>\n",
       "    </tr>\n",
       "    <tr>\n",
       "      <th>Y</th>\n",
       "      <th></th>\n",
       "      <th></th>\n",
       "      <th></th>\n",
       "      <th></th>\n",
       "      <th></th>\n",
       "      <th></th>\n",
       "    </tr>\n",
       "  </thead>\n",
       "  <tbody>\n",
       "    <tr>\n",
       "      <th>A</th>\n",
       "      <td>0.02</td>\n",
       "      <td>0.04</td>\n",
       "      <td>0.02</td>\n",
       "      <td>0.00</td>\n",
       "      <td>0.00</td>\n",
       "      <td>0.00</td>\n",
       "    </tr>\n",
       "    <tr>\n",
       "      <th>B</th>\n",
       "      <td>0.00</td>\n",
       "      <td>0.04</td>\n",
       "      <td>0.06</td>\n",
       "      <td>0.02</td>\n",
       "      <td>0.00</td>\n",
       "      <td>0.00</td>\n",
       "    </tr>\n",
       "    <tr>\n",
       "      <th>C</th>\n",
       "      <td>0.00</td>\n",
       "      <td>0.08</td>\n",
       "      <td>0.14</td>\n",
       "      <td>0.08</td>\n",
       "      <td>0.02</td>\n",
       "      <td>0.00</td>\n",
       "    </tr>\n",
       "    <tr>\n",
       "      <th>D</th>\n",
       "      <td>0.00</td>\n",
       "      <td>0.02</td>\n",
       "      <td>0.08</td>\n",
       "      <td>0.10</td>\n",
       "      <td>0.08</td>\n",
       "      <td>0.00</td>\n",
       "    </tr>\n",
       "    <tr>\n",
       "      <th>E</th>\n",
       "      <td>0.00</td>\n",
       "      <td>0.00</td>\n",
       "      <td>0.02</td>\n",
       "      <td>0.06</td>\n",
       "      <td>0.04</td>\n",
       "      <td>0.00</td>\n",
       "    </tr>\n",
       "    <tr>\n",
       "      <th>F</th>\n",
       "      <td>0.00</td>\n",
       "      <td>0.00</td>\n",
       "      <td>0.00</td>\n",
       "      <td>0.02</td>\n",
       "      <td>0.04</td>\n",
       "      <td>0.02</td>\n",
       "    </tr>\n",
       "  </tbody>\n",
       "</table>\n",
       "</div>"
      ],
      "text/plain": [
       "X     A     B     C     D     E     F\n",
       "Y                                    \n",
       "A  0.02  0.04  0.02  0.00  0.00  0.00\n",
       "B  0.00  0.04  0.06  0.02  0.00  0.00\n",
       "C  0.00  0.08  0.14  0.08  0.02  0.00\n",
       "D  0.00  0.02  0.08  0.10  0.08  0.00\n",
       "E  0.00  0.00  0.02  0.06  0.04  0.00\n",
       "F  0.00  0.00  0.00  0.02  0.04  0.02"
      ]
     },
     "execution_count": 2,
     "metadata": {},
     "output_type": "execute_result"
    }
   ],
   "source": [
    "pmf = scores / scores.values.sum()\n",
    "pmf"
   ]
  },
  {
   "cell_type": "code",
   "execution_count": 3,
   "metadata": {},
   "outputs": [],
   "source": [
    "sns.heatmap(pmf, cmap=mpl.cm.bone_r, annot=True,\n",
    "            xticklabels=['A', 'B', 'C', 'D', 'E', 'F'],\n",
    "            yticklabels=['A', 'B', 'C', 'D', 'E', 'F'])\n",
    "plt.title(\"결합확률질량함수 p(x,y)\")\n",
    "plt.tight_layout()\n",
    "plt.show()"
   ]
  },
  {
   "cell_type": "code",
   "execution_count": null,
   "metadata": {},
   "outputs": [],
   "source": [
    "# 주변확률 질향함수"
   ]
  },
  {
   "cell_type": "code",
   "execution_count": 4,
   "metadata": {},
   "outputs": [
    {
     "data": {
      "text/plain": [
       "X\n",
       "A    0.02\n",
       "B    0.18\n",
       "C    0.32\n",
       "D    0.28\n",
       "E    0.18\n",
       "F    0.02\n",
       "dtype: float64"
      ]
     },
     "execution_count": 4,
     "metadata": {},
     "output_type": "execute_result"
    }
   ],
   "source": [
    "pmf_marginal_x = pmf.sum(axis=0)\n",
    "pmf_marginal_x"
   ]
  },
  {
   "cell_type": "code",
   "execution_count": 5,
   "metadata": {},
   "outputs": [
    {
     "data": {
      "text/plain": [
       "array([[0.08],\n",
       "       [0.12],\n",
       "       [0.32],\n",
       "       [0.28],\n",
       "       [0.12],\n",
       "       [0.08]])"
      ]
     },
     "execution_count": 5,
     "metadata": {},
     "output_type": "execute_result"
    }
   ],
   "source": [
    "pmf_marginal_y = pmf.sum(axis=1)\n",
    "pmf_marginal_y[:, np.newaxis]"
   ]
  },
  {
   "cell_type": "code",
   "execution_count": null,
   "metadata": {},
   "outputs": [],
   "source": [
    "# 조건부질량함수"
   ]
  },
  {
   "cell_type": "code",
   "execution_count": 6,
   "metadata": {},
   "outputs": [],
   "source": [
    "import string\n",
    "\n",
    "x = np.arange(6)\n",
    "for i, y in enumerate(string.ascii_uppercase[:6]):\n",
    "    ax = plt.subplot(6, 1, i + 1)\n",
    "    ax.tick_params(labelleft=False)\n",
    "    plt.bar(x, pmf.iloc[i, :])\n",
    "    plt.ylabel(\"p(x, y={})\".format(y), rotation=0, labelpad=30)\n",
    "    plt.ylim(0, 0.15)\n",
    "    plt.xticks(range(6), ['A', 'B', 'C', 'D', 'E', 'F'])\n",
    "\n",
    "plt.suptitle(\"y가 주어진 경우의 결합확률질량함수의 단면\", y=1.05)\n",
    "plt.tight_layout()\n",
    "plt.show()"
   ]
  },
  {
   "cell_type": "code",
   "execution_count": 7,
   "metadata": {},
   "outputs": [
    {
     "data": {
      "text/plain": [
       "X\n",
       "A    0.02\n",
       "B    0.04\n",
       "C    0.02\n",
       "D    0.00\n",
       "E    0.00\n",
       "F    0.00\n",
       "Name: A, dtype: float64"
      ]
     },
     "execution_count": 7,
     "metadata": {},
     "output_type": "execute_result"
    }
   ],
   "source": [
    "pmf.iloc[0, :]"
   ]
  },
  {
   "cell_type": "code",
   "execution_count": 8,
   "metadata": {},
   "outputs": [
    {
     "data": {
      "text/plain": [
       "0.08"
      ]
     },
     "execution_count": 8,
     "metadata": {},
     "output_type": "execute_result"
    }
   ],
   "source": [
    "np.sum(pmf.iloc[0, :])"
   ]
  },
  {
   "cell_type": "code",
   "execution_count": 9,
   "metadata": {},
   "outputs": [
    {
     "data": {
      "text/plain": [
       "X\n",
       "A    0.25\n",
       "B    0.50\n",
       "C    0.25\n",
       "D    0.00\n",
       "E    0.00\n",
       "F    0.00\n",
       "Name: A, dtype: float64"
      ]
     },
     "execution_count": 9,
     "metadata": {},
     "output_type": "execute_result"
    }
   ],
   "source": [
    "cond_y0 = pmf.iloc[0, :]/pmf_marginal_y[0]\n",
    "cond_y0"
   ]
  },
  {
   "cell_type": "code",
   "execution_count": 10,
   "metadata": {},
   "outputs": [
    {
     "data": {
      "text/plain": [
       "1.0"
      ]
     },
     "execution_count": 10,
     "metadata": {},
     "output_type": "execute_result"
    }
   ],
   "source": [
    "np.sum(cond_y0)"
   ]
  },
  {
   "cell_type": "code",
   "execution_count": 11,
   "metadata": {},
   "outputs": [],
   "source": [
    "plt.subplot(211)\n",
    "plt.bar(x, pmf.iloc[0, :])\n",
    "plt.ylim(0, 0.5)\n",
    "plt.xticks(range(6), ['A', 'B', 'C', 'D', 'E', 'F'])\n",
    "plt.title(\"y=A일 때의 결합확률질량함수 단면 p(x,y=A)\")\n",
    "plt.subplot(212)\n",
    "plt.bar(x, cond_y0)\n",
    "plt.ylim(0, 0.5)\n",
    "plt.xticks(range(6), ['A', 'B', 'C', 'D', 'E', 'F'])\n",
    "plt.title(\"y=A일 때의 조건부확률질량함수 p(x|y=A)\")\n",
    "plt.xlabel(\"x\")\n",
    "plt.tight_layout()\n",
    "plt.show()"
   ]
  },
  {
   "cell_type": "code",
   "execution_count": null,
   "metadata": {},
   "outputs": [],
   "source": [
    "# y=B일 때"
   ]
  },
  {
   "cell_type": "code",
   "execution_count": 12,
   "metadata": {},
   "outputs": [
    {
     "data": {
      "text/plain": [
       "X\n",
       "A    0.00\n",
       "B    0.04\n",
       "C    0.06\n",
       "D    0.02\n",
       "E    0.00\n",
       "F    0.00\n",
       "Name: B, dtype: float64"
      ]
     },
     "execution_count": 12,
     "metadata": {},
     "output_type": "execute_result"
    }
   ],
   "source": [
    "pmf.iloc[1, :]"
   ]
  },
  {
   "cell_type": "code",
   "execution_count": 13,
   "metadata": {},
   "outputs": [
    {
     "data": {
      "text/plain": [
       "0.12000000000000001"
      ]
     },
     "execution_count": 13,
     "metadata": {},
     "output_type": "execute_result"
    }
   ],
   "source": [
    "np.sum(pmf.iloc[1, :])"
   ]
  },
  {
   "cell_type": "code",
   "execution_count": 14,
   "metadata": {},
   "outputs": [
    {
     "data": {
      "text/plain": [
       "X\n",
       "A    0.000000\n",
       "B    0.333333\n",
       "C    0.500000\n",
       "D    0.166667\n",
       "E    0.000000\n",
       "F    0.000000\n",
       "Name: B, dtype: float64"
      ]
     },
     "execution_count": 14,
     "metadata": {},
     "output_type": "execute_result"
    }
   ],
   "source": [
    "cond_y1 = pmf.iloc[1, :]/pmf_marginal_y[1]\n",
    "cond_y1"
   ]
  },
  {
   "cell_type": "code",
   "execution_count": 15,
   "metadata": {},
   "outputs": [
    {
     "data": {
      "text/plain": [
       "0.9999999999999999"
      ]
     },
     "execution_count": 15,
     "metadata": {},
     "output_type": "execute_result"
    }
   ],
   "source": [
    "np.sum(cond_y1)"
   ]
  },
  {
   "cell_type": "code",
   "execution_count": 16,
   "metadata": {},
   "outputs": [],
   "source": [
    "y = np.arange(6)\n",
    "plt.subplot(211)\n",
    "plt.bar(y, pmf.iloc[1, :])\n",
    "plt.ylim(0, 0.6)\n",
    "plt.xticks(range(6), ['A', 'B', 'C', 'D', 'E', 'F'])\n",
    "plt.title(\"y=B일 때의 결합확률질량함수 단면  p(x,y=B)\")\n",
    "plt.subplot(212)\n",
    "plt.bar(y, cond_y1)\n",
    "plt.ylim(0, 0.6)\n",
    "plt.xticks(range(6), ['A', 'B', 'C', 'D', 'E', 'F'])\n",
    "plt.title(\"y=B일 때의 조건부확률질량함수 p(x|y=B)\")\n",
    "plt.xlabel(\"x\")\n",
    "plt.tight_layout()\n",
    "plt.show()"
   ]
  },
  {
   "cell_type": "code",
   "execution_count": null,
   "metadata": {},
   "outputs": [],
   "source": [
    "# 결합확률밀도함수"
   ]
  },
  {
   "cell_type": "code",
   "execution_count": 17,
   "metadata": {},
   "outputs": [],
   "source": [
    "mu = [70, 170]\n",
    "cov = [[150, 140], [140, 300]]\n",
    "rv = sp.stats.multivariate_normal(mu, cov)\n",
    "\n",
    "xx = np.linspace(20, 120, 100)\n",
    "yy = np.linspace(100, 250, 100)\n",
    "XX, YY = np.meshgrid(xx, yy)\n",
    "ZZ = rv.pdf(np.dstack([XX, YY]))\n",
    "plt.contour(XX, YY, ZZ)\n",
    "plt.xlabel(\"x\")\n",
    "plt.ylabel(\"y\")\n",
    "plt.title(\"결합확률밀도함수 p(x,y)\")\n",
    "plt.show()"
   ]
  },
  {
   "cell_type": "code",
   "execution_count": 18,
   "metadata": {},
   "outputs": [],
   "source": [
    "# 주변확률밀도함수"
   ]
  },
  {
   "cell_type": "code",
   "execution_count": 20,
   "metadata": {},
   "outputs": [
    {
     "name": "stderr",
     "output_type": "stream",
     "text": [
      "Font 'default' does not have a glyph for '\\uacb0' [U+acb0], substituting with a dummy symbol.\n",
      "Font 'default' does not have a glyph for '\\ud569' [U+d569], substituting with a dummy symbol.\n",
      "Font 'default' does not have a glyph for '\\ud655' [U+d655], substituting with a dummy symbol.\n",
      "Font 'default' does not have a glyph for '\\ub960' [U+b960], substituting with a dummy symbol.\n",
      "Font 'default' does not have a glyph for '\\ubd84' [U+bd84], substituting with a dummy symbol.\n",
      "Font 'default' does not have a glyph for '\\ud3ec' [U+d3ec], substituting with a dummy symbol.\n",
      "Font 'default' does not have a glyph for '\\ud568' [U+d568], substituting with a dummy symbol.\n",
      "Font 'default' does not have a glyph for '\\uc218' [U+c218], substituting with a dummy symbol.\n",
      "Font 'default' does not have a glyph for '\\uc8fc' [U+c8fc], substituting with a dummy symbol.\n",
      "Font 'default' does not have a glyph for '\\ubcc0' [U+bcc0], substituting with a dummy symbol.\n",
      "Font 'default' does not have a glyph for '\\ud655' [U+d655], substituting with a dummy symbol.\n",
      "Font 'default' does not have a glyph for '\\ub960' [U+b960], substituting with a dummy symbol.\n",
      "Font 'default' does not have a glyph for '\\ubd84' [U+bd84], substituting with a dummy symbol.\n",
      "Font 'default' does not have a glyph for '\\ud3ec' [U+d3ec], substituting with a dummy symbol.\n",
      "Font 'default' does not have a glyph for '\\ud568' [U+d568], substituting with a dummy symbol.\n",
      "Font 'default' does not have a glyph for '\\uc218' [U+c218], substituting with a dummy symbol.\n",
      "Font 'default' does not have a glyph for '\\uc8fc' [U+c8fc], substituting with a dummy symbol.\n",
      "Font 'default' does not have a glyph for '\\ubcc0' [U+bcc0], substituting with a dummy symbol.\n",
      "Font 'default' does not have a glyph for '\\ud655' [U+d655], substituting with a dummy symbol.\n",
      "Font 'default' does not have a glyph for '\\ub960' [U+b960], substituting with a dummy symbol.\n",
      "Font 'default' does not have a glyph for '\\ubd84' [U+bd84], substituting with a dummy symbol.\n",
      "Font 'default' does not have a glyph for '\\ud3ec' [U+d3ec], substituting with a dummy symbol.\n",
      "Font 'default' does not have a glyph for '\\ud568' [U+d568], substituting with a dummy symbol.\n",
      "Font 'default' does not have a glyph for '\\uc218' [U+c218], substituting with a dummy symbol.\n"
     ]
    }
   ],
   "source": [
    "from matplotlib.ticker import NullFormatter\n",
    "from matplotlib import transforms\n",
    "from scipy.integrate import simps  # 심슨법칙(Simpson's rule)을 사용한 적분 계산\n",
    "\n",
    "xx = np.linspace(20, 120, 100)\n",
    "yy = np.linspace(100, 250, 100)\n",
    "XX, YY = np.meshgrid(xx, yy)\n",
    "ZZ = rv.pdf(np.dstack([XX, YY]))\n",
    "fx = [simps(Z, yy) for Z in ZZ.T]\n",
    "fy = [simps(Z, xx) for Z in ZZ]\n",
    "\n",
    "plt.figure(figsize=(6, 6))\n",
    "\n",
    "left, width = 0.1, 0.65\n",
    "bottom, height = 0.1, 0.65\n",
    "bottom_h = left_h = left + width + 0.05\n",
    "\n",
    "rect1 = [left, bottom, width, height]\n",
    "rect2 = [left, bottom_h, width, 0.2]\n",
    "rect3 = [left_h, bottom, 0.2, height]\n",
    "\n",
    "ax1 = plt.axes(rect1)\n",
    "ax2 = plt.axes(rect2)\n",
    "ax3 = plt.axes(rect3)\n",
    "\n",
    "ax2.xaxis.set_major_formatter(NullFormatter())\n",
    "ax3.yaxis.set_major_formatter(NullFormatter())\n",
    "\n",
    "ax1.contour(XX, YY, ZZ)\n",
    "ax1.set_title(\"결합확률분포함수 $p_{XY}(x, y)$\")\n",
    "ax1.set_xlabel(\"x\")\n",
    "ax1.set_ylabel(\"y\")\n",
    "\n",
    "ax2.plot(xx, fx)\n",
    "ax2.set_title(\"주변확률분포함수 $p_X(x)$\")\n",
    "\n",
    "base = ax3.transData\n",
    "rot = transforms.Affine2D().rotate_deg(-90)\n",
    "plt.plot(-yy, fy, transform=rot + base)\n",
    "plt.title(\"주변확률분포함수 $p_Y(y)$\")\n",
    "\n",
    "ax1.set_xlim(38, 102)\n",
    "ax1.set_ylim(120, 220)\n",
    "ax2.set_xlim(38, 102)\n",
    "ax3.set_xlim(0, 0.025)\n",
    "ax3.set_ylim(120, 220)\n",
    "\n",
    "plt.show()"
   ]
  },
  {
   "cell_type": "code",
   "execution_count": 21,
   "metadata": {},
   "outputs": [],
   "source": [
    "from matplotlib.collections import PolyCollection\n",
    "from matplotlib import colors as mcolors\n",
    "\n",
    "xx = np.linspace(20, 120, 100)\n",
    "yy = np.linspace(100, 250, 16)\n",
    "XX, YY = np.meshgrid(xx, yy)\n",
    "ZZ = rv.pdf(np.dstack([XX, YY]))\n",
    "\n",
    "fig = plt.figure(dpi=150)\n",
    "ax = fig.gca(projection='3d')\n",
    "\n",
    "xs = np.hstack([0, xx, 0])\n",
    "zs = np.zeros_like(xs)\n",
    "verts = []\n",
    "for i, y in enumerate(yy):\n",
    "    zs[1:-1] = ZZ[i]\n",
    "    verts.append(list(zip(xx, zs)))\n",
    "\n",
    "poly = PolyCollection(verts)\n",
    "poly.set_alpha(0.5)\n",
    "ax.add_collection3d(poly, zs=yy, zdir='y')\n",
    "\n",
    "ax.set_xlabel('x')\n",
    "ax.set_ylabel('y')\n",
    "ax.set_xlim(20, 120)\n",
    "ax.set_ylim(100, 250)\n",
    "ax.set_zlim3d(0, 0.0007)\n",
    "ax.view_init(50, -50)\n",
    "plt.title(\"결합확률밀도함수의 단면\")\n",
    "plt.show()"
   ]
  },
  {
   "cell_type": "code",
   "execution_count": 22,
   "metadata": {},
   "outputs": [],
   "source": [
    "for i, j in enumerate(range(9, 3, -1)):\n",
    "    ax = plt.subplot(6, 1, i + 1)\n",
    "    ax.tick_params(labelleft=False)\n",
    "    plt.plot(xx, ZZ[j, :])\n",
    "    plt.ylim(0, 0.0012)\n",
    "    if i < 5:\n",
    "        ax.xaxis.set_ticklabels([])\n",
    "    plt.ylabel(\"p(x, y={:.0f})\".format(yy[j]), rotation=0, labelpad=40)\n",
    "plt.xlabel(\"x\")\n",
    "plt.tight_layout()\n",
    "plt.suptitle(\"결합확률밀도함수의 단면\", y=1.05)\n",
    "plt.show()"
   ]
  },
  {
   "cell_type": "code",
   "execution_count": 23,
   "metadata": {},
   "outputs": [],
   "source": [
    "from scipy.integrate import simps  # 심슨법칙(Simpson's rule)을 사용한 적분 계산\n",
    "\n",
    "mag = 10 # 확대 비율\n",
    "xx = np.linspace(20, 120, 100)\n",
    "yy = np.linspace(100, 250, 16)\n",
    "XX, YY = np.meshgrid(xx, yy)\n",
    "ZZ = rv.pdf(np.dstack([XX, YY]))\n",
    "plt.figure(figsize=(8, 6))\n",
    "for i, j in enumerate(range(9, 4, -1)):\n",
    "    ax = plt.subplot(5, 1, i + 1)\n",
    "    ax.tick_params(labelleft=False)\n",
    "    plt.plot(xx, ZZ[j, :] * mag, 'r--', lw=2, label=\"결합확률밀도함수의 단면\")\n",
    "    marginal = simps(ZZ[j, :], xx)\n",
    "    plt.plot(xx, ZZ[j, :] / marginal, 'b-', lw=2, label=\"조건부확률밀도함수\")\n",
    "    plt.ylim(0, 0.05)\n",
    "    ax.xaxis.set_ticklabels([])\n",
    "    plt.ylabel(\"p(x, y={:.0f})\".format(yy[j]), rotation=0, labelpad=40)\n",
    "    if i == 0: \n",
    "        plt.legend(loc=2)\n",
    "plt.xlabel(\"x\")\n",
    "plt.tight_layout()\n",
    "plt.show()"
   ]
  },
  {
   "cell_type": "code",
   "execution_count": null,
   "metadata": {},
   "outputs": [],
   "source": [
    "# 조건부 확률분포"
   ]
  },
  {
   "cell_type": "code",
   "execution_count": 24,
   "metadata": {},
   "outputs": [],
   "source": [
    "pmf1 = np.array([[1, 2,  4, 2, 1],\n",
    "                 [2, 4,  8, 4, 2],\n",
    "                 [4, 8, 16, 8, 4],\n",
    "                 [2, 4,  8, 4, 2],\n",
    "                 [1, 2,  4, 2, 1]])\n",
    "pmf1 = pmf1/pmf1.sum()\n",
    "\n",
    "pmf1_marginal_x = np.round(pmf1.sum(axis=0), 2)\n",
    "pmf1_marginal_y = np.round(pmf1.sum(axis=1), 2)\n",
    "pmf1x = pmf1_marginal_x * pmf1_marginal_y[:, np.newaxis]\n",
    "\n",
    "plt.subplot(121)\n",
    "sns.heatmap(pmf1, cmap=mpl.cm.bone_r, annot=True, square=True, linewidth=1, linecolor=\"k\",\n",
    "            cbar=False, xticklabels=pmf1_marginal_x, yticklabels=pmf1_marginal_y)\n",
    "plt.title(\"독립인 두 확률변수의 결합확률질량함수\")\n",
    "\n",
    "plt.subplot(122)\n",
    "pmf1x = pmf1_marginal_x * pmf1_marginal_y[:, np.newaxis]\n",
    "sns.heatmap(pmf1x, cmap=mpl.cm.bone_r, annot=True, square=True, linewidth=1, linecolor=\"k\",\n",
    "            cbar=False, xticklabels=pmf1_marginal_x, yticklabels=pmf1_marginal_y)\n",
    "plt.title(\"두 확률변수의 주변확률질량함수의 곱\")\n",
    "\n",
    "plt.show()"
   ]
  },
  {
   "cell_type": "code",
   "execution_count": 25,
   "metadata": {},
   "outputs": [
    {
     "data": {
      "text/plain": [
       "array([0.1, 0.2, 0.4, 0.2, 0.1])"
      ]
     },
     "execution_count": 25,
     "metadata": {},
     "output_type": "execute_result"
    }
   ],
   "source": [
    "cond_x_y0 = pmf1[0, :]/pmf1_marginal_y[0]\n",
    "cond_x_y0"
   ]
  },
  {
   "cell_type": "code",
   "execution_count": 26,
   "metadata": {},
   "outputs": [
    {
     "data": {
      "text/plain": [
       "array([0.1, 0.2, 0.4, 0.2, 0.1])"
      ]
     },
     "execution_count": 26,
     "metadata": {},
     "output_type": "execute_result"
    }
   ],
   "source": [
    "cond_x_y1 = pmf1[1, :]/pmf1_marginal_y[1]\n",
    "cond_x_y1"
   ]
  },
  {
   "cell_type": "code",
   "execution_count": 27,
   "metadata": {},
   "outputs": [],
   "source": [
    "pmf2 = np.array([[0, 0,  0, 5, 5],\n",
    "                 [0, 5,  5, 5, 5],\n",
    "                 [0, 5, 30, 5, 0],\n",
    "                 [5, 5,  5, 5, 0],\n",
    "                 [5, 5,  0, 0, 0]])\n",
    "pmf2 = pmf2/pmf2.sum()\n",
    "\n",
    "pmf2_marginal_x = np.round(pmf2.sum(axis=0), 2)\n",
    "pmf2_marginal_y = np.round(pmf2.sum(axis=1), 2)\n",
    "\n",
    "plt.subplot(121)\n",
    "sns.heatmap(pmf2, cmap=mpl.cm.bone_r, annot=True, square=True, linewidth=1, linecolor=\"k\",\n",
    "            cbar=False, xticklabels=pmf2_marginal_x, yticklabels=pmf2_marginal_y)\n",
    "plt.title(\"상관관계인 두 확률변수의 결합확률질량함수\")\n",
    "\n",
    "plt.subplot(122)\n",
    "pmf2x = pmf2_marginal_x * pmf2_marginal_y[:, np.newaxis]\n",
    "sns.heatmap(pmf2x, cmap=mpl.cm.bone_r, annot=True, square=True, linewidth=1, linecolor=\"k\",\n",
    "            cbar=False, xticklabels=pmf2_marginal_x, yticklabels=pmf2_marginal_y)\n",
    "plt.title(\"두 확률변수의 주변확률질량함수의 곱\")\n",
    "\n",
    "plt.show()"
   ]
  },
  {
   "cell_type": "code",
   "execution_count": 28,
   "metadata": {},
   "outputs": [
    {
     "data": {
      "text/plain": [
       "array([0. , 0. , 0. , 0.5, 0.5])"
      ]
     },
     "execution_count": 28,
     "metadata": {},
     "output_type": "execute_result"
    }
   ],
   "source": [
    "cond_x_y0 = pmf2[0, :]/pmf2_marginal_y[0]\n",
    "cond_x_y0"
   ]
  },
  {
   "cell_type": "code",
   "execution_count": 29,
   "metadata": {},
   "outputs": [
    {
     "data": {
      "text/plain": [
       "array([0.  , 0.25, 0.25, 0.25, 0.25])"
      ]
     },
     "execution_count": 29,
     "metadata": {},
     "output_type": "execute_result"
    }
   ],
   "source": [
    "cond_x_y1 = pmf2[1, :]/pmf2_marginal_y[1]\n",
    "cond_x_y1"
   ]
  },
  {
   "cell_type": "code",
   "execution_count": null,
   "metadata": {},
   "outputs": [],
   "source": []
  }
 ],
 "metadata": {
  "kernelspec": {
   "display_name": "Python 3",
   "language": "python",
   "name": "python3"
  },
  "language_info": {
   "codemirror_mode": {
    "name": "ipython",
    "version": 3
   },
   "file_extension": ".py",
   "mimetype": "text/x-python",
   "name": "python",
   "nbconvert_exporter": "python",
   "pygments_lexer": "ipython3",
   "version": "3.7.7"
  }
 },
 "nbformat": 4,
 "nbformat_minor": 4
}
