{
 "cells": [
  {
   "cell_type": "code",
   "execution_count": 1,
   "metadata": {},
   "outputs": [],
   "source": [
    "import numpy as np  # 넘파이 패키지 임포트\n",
    "import matplotlib.pylab as plt  # 맷플롯립 패키지 임포트\n",
    "import matplotlib.pyplot as plt\n",
    "from matplotlib import font_manager"
   ]
  },
  {
   "cell_type": "code",
   "execution_count": 4,
   "metadata": {},
   "outputs": [],
   "source": [
    "x = np.linspace(-100, 500, 1000)\n",
    "p = np.zeros_like(x)\n",
    "p[(0 < x) & (x <= 360)] = 1 / 360\n",
    "xp = x * p\n",
    "\n",
    "plt.subplot(121)\n",
    "plt.plot(x, p)\n",
    "plt.xticks([0, 180, 360])\n",
    "plt.title(\"$p(x)$\")\n",
    "plt.xlabel(\"$x$ (도)\")\n",
    "\n",
    "plt.subplot(122)\n",
    "plt.plot(x, xp)\n",
    "plt.xticks([0, 180, 360])\n",
    "plt.title(\"$xp(x)$\")\n",
    "plt.xlabel(\"$x$ (도)\")\n",
    "\n",
    "plt.show()"
   ]
  },
  {
   "cell_type": "code",
   "execution_count": 3,
   "metadata": {},
   "outputs": [],
   "source": [
    "x = np.linspace(-100, 500, 1000)\n",
    "p = np.zeros_like(x)\n",
    "p[(0 < x) & (x <= 180)] = 2 / (3 * 360)\n",
    "p[(180 < x) & (x <= 360)] = 1 / (3 * 360)\n",
    "xp = x * p\n",
    "\n",
    "plt.subplot(121)\n",
    "plt.plot(x, p)\n",
    "plt.xticks([0, 180, 360])\n",
    "plt.title(\"$p(x)$\")\n",
    "plt.xlabel(\"$x$ (도)\")\n",
    "\n",
    "plt.subplot(122)\n",
    "plt.plot(x, xp)\n",
    "plt.xticks([0, 180, 360])\n",
    "plt.title(\"$xp(x)$\")\n",
    "plt.xlabel(\"$x$ (도)\")\\\n",
    "\n",
    "plt.show()"
   ]
  },
  {
   "cell_type": "code",
   "execution_count": null,
   "metadata": {},
   "outputs": [],
   "source": []
  }
 ],
 "metadata": {
  "kernelspec": {
   "display_name": "Python 3",
   "language": "python",
   "name": "python3"
  },
  "language_info": {
   "codemirror_mode": {
    "name": "ipython",
    "version": 3
   },
   "file_extension": ".py",
   "mimetype": "text/x-python",
   "name": "python",
   "nbconvert_exporter": "python",
   "pygments_lexer": "ipython3",
   "version": "3.7.7"
  }
 },
 "nbformat": 4,
 "nbformat_minor": 4
}
