{
 "cells": [
  {
   "cell_type": "code",
   "execution_count": 3,
   "metadata": {},
   "outputs": [
    {
     "name": "stderr",
     "output_type": "stream",
     "text": [
      "Font 'default' does not have a glyph for '\\uc2e4' [U+c2e4], substituting with a dummy symbol.\n",
      "Font 'default' does not have a glyph for '\\uc81c' [U+c81c], substituting with a dummy symbol.\n",
      "Font 'default' does not have a glyph for '\\uac80' [U+ac80], substituting with a dummy symbol.\n",
      "Font 'default' does not have a glyph for '\\uc815' [U+c815], substituting with a dummy symbol.\n",
      "Font 'default' does not have a glyph for '\\ud1b5' [U+d1b5], substituting with a dummy symbol.\n",
      "Font 'default' does not have a glyph for '\\uacc4' [U+acc4], substituting with a dummy symbol.\n",
      "Font 'default' does not have a glyph for '\\ub7c9' [U+b7c9], substituting with a dummy symbol.\n"
     ]
    }
   ],
   "source": [
    "xx1 = np.linspace(-4, 4, 100)\n",
    "\n",
    "black = {\"facecolor\": \"black\"}\n",
    "plt.figure(figsize=(8, 4))\n",
    "\n",
    "plt.subplot(121)\n",
    "plt.title(\"가능성이 높은 검정통계량이 나온 경우\")\n",
    "plt.plot(xx1, sp.stats.norm.pdf(xx1))\n",
    "plt.plot(0.5, 0, \"ro\")\n",
    "plt.annotate('실제 검정통계량', xy=(0.5, 0.01), xytext=(0.85, 0.1), arrowprops=black)\n",
    "\n",
    "plt.subplot(122)\n",
    "plt.title(\"가능성이 낮은 검정통계량이 나온 경우\")\n",
    "plt.plot(xx1, sp.stats.norm.pdf(xx1))\n",
    "plt.plot(2.2, 0, \"ro\")\n",
    "plt.annotate('실제 검정통계량 $t_0$', xy=(2.2, 0.01), xytext=(0.85, 0.1), arrowprops=black)\n",
    "\n",
    "plt.suptitle(\"검정통계량 분포와 실제 검정통계량의 값\", y=1.05)\n",
    "plt.tight_layout()\n",
    "plt.show()"
   ]
  },
  {
   "cell_type": "code",
   "execution_count": 4,
   "metadata": {},
   "outputs": [],
   "source": [
    "N = 15\n",
    "mu = 0.5\n",
    "rv = sp.stats.binom(N, mu)\n",
    "\n",
    "xx = np.arange(N + 1)\n",
    "\n",
    "plt.subplot(211)\n",
    "plt.stem(xx, rv.pmf(xx))\n",
    "plt.ylabel(\"pmf\")\n",
    "plt.title(\"검정통계량분포(N=15인 이항분포)의 확률질량함수\")\n",
    "black = {\"facecolor\": \"black\"}\n",
    "plt.annotate('검정통계량 t=12', xy=(12, 0.02), xytext=(12, 0.1), arrowprops=black)\n",
    "\n",
    "plt.subplot(212)\n",
    "plt.stem(xx, rv.cdf(xx))\n",
    "plt.ylabel(\"cdf\")\n",
    "plt.title(\"검정통계량분포(N=15인 이항분포)의 누적분포함수\")\n",
    "\n",
    "plt.tight_layout()\n",
    "plt.show()"
   ]
  },
  {
   "cell_type": "code",
   "execution_count": 5,
   "metadata": {},
   "outputs": [
    {
     "data": {
      "text/plain": [
       "0.03515625"
      ]
     },
     "execution_count": 5,
     "metadata": {},
     "output_type": "execute_result"
    }
   ],
   "source": [
    "2 * (1 - rv.cdf(12 - 1))"
   ]
  },
  {
   "cell_type": "code",
   "execution_count": 6,
   "metadata": {},
   "outputs": [
    {
     "data": {
      "text/plain": [
       "0.017578125"
      ]
     },
     "execution_count": 6,
     "metadata": {},
     "output_type": "execute_result"
    }
   ],
   "source": [
    "1 - rv.cdf(12 - 1)"
   ]
  },
  {
   "cell_type": "code",
   "execution_count": 7,
   "metadata": {},
   "outputs": [
    {
     "data": {
      "text/plain": [
       "-1.4025921414082105"
      ]
     },
     "execution_count": 7,
     "metadata": {},
     "output_type": "execute_result"
    }
   ],
   "source": [
    "# 검정통계량\n",
    "x = np.array([-0.025, -0.05, 0.043, -0.037, -0.056])\n",
    "t = x.mean()/x.std(ddof=1)*np.sqrt(len(x))\n",
    "t"
   ]
  },
  {
   "cell_type": "code",
   "execution_count": 8,
   "metadata": {},
   "outputs": [
    {
     "data": {
      "text/plain": [
       "0.11669216509589829"
      ]
     },
     "execution_count": 8,
     "metadata": {},
     "output_type": "execute_result"
    }
   ],
   "source": [
    "# 유의확률\n",
    "sp.stats.t(df=4).cdf(t)"
   ]
  },
  {
   "cell_type": "code",
   "execution_count": 9,
   "metadata": {},
   "outputs": [],
   "source": [
    "rv = sp.stats.norm()\n",
    "\n",
    "xx = np.linspace(-4, 4, 100)\n",
    "\n",
    "plt.subplot(211)\n",
    "plt.plot(xx, rv.pdf(xx))\n",
    "plt.ylabel(\"pdf\")\n",
    "plt.title(\"검정통계량분포(표준정규분포)의 확률밀도함수\")\n",
    "black = {\"facecolor\": \"black\"}\n",
    "plt.annotate('검정통계량 t=-1.4025', xy=(-1.4, 0.15), xytext=(-4, 0.25), arrowprops=black)\n",
    "xx2 = np.linspace(-4, -1.4025, 100)\n",
    "plt.fill_between(xx2, rv.pdf(xx2), facecolor='blue', alpha=0.35)\n",
    "\n",
    "plt.subplot(212)\n",
    "plt.plot(xx, rv.cdf(xx))\n",
    "plt.fill_between(xx2, rv.cdf(xx2), facecolor='blue', alpha=0.35)\n",
    "plt.ylabel(\"cdf\")\n",
    "plt.title(\"검정통계량분포(표준정규분포)의 누적분포함수\")\n",
    "\n",
    "plt.tight_layout()\n",
    "plt.show()"
   ]
  },
  {
   "cell_type": "code",
   "execution_count": null,
   "metadata": {},
   "outputs": [],
   "source": []
  }
 ],
 "metadata": {
  "kernelspec": {
   "display_name": "Python 3",
   "language": "python",
   "name": "python3"
  },
  "language_info": {
   "codemirror_mode": {
    "name": "ipython",
    "version": 3
   },
   "file_extension": ".py",
   "mimetype": "text/x-python",
   "name": "python",
   "nbconvert_exporter": "python",
   "pygments_lexer": "ipython3",
   "version": "3.7.7"
  }
 },
 "nbformat": 4,
 "nbformat_minor": 4
}
