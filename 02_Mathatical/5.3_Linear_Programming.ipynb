{
 "cells": [
  {
   "cell_type": "code",
   "execution_count": 1,
   "metadata": {},
   "outputs": [
    {
     "data": {
      "text/plain": [
       "     con: array([], dtype=float64)\n",
       "     fun: -1399.999994807384\n",
       " message: 'Optimization terminated successfully.'\n",
       "     nit: 6\n",
       "   slack: array([1.99999991e+02, 4.19920389e-06, 3.31137414e-07, 8.10000001e+03])\n",
       "  status: 0\n",
       " success: True\n",
       "       x: array([299.99999127, 100.0000042 ])"
      ]
     },
     "execution_count": 1,
     "metadata": {},
     "output_type": "execute_result"
    }
   ],
   "source": [
    "import scipy.optimize\n",
    "\n",
    "A = np.array([[-1, 0], [0, -1], [1, 2], [4, 5]])\n",
    "b = np.array([-100, -100, 500, 9800])\n",
    "c = np.array([-3, -5])\n",
    "\n",
    "result = sp.optimize.linprog(c, A, b)\n",
    "result"
   ]
  },
  {
   "cell_type": "code",
   "execution_count": 3,
   "metadata": {},
   "outputs": [
    {
     "name": "stdout",
     "output_type": "stream",
     "text": [
      "상태: optimal\n",
      "최적값: 299.99999911572195 100.00000058337798\n"
     ]
    }
   ],
   "source": [
    "import cvxpy as cp\n",
    "\n",
    "# 변수의 정의\n",
    "a = cp.Variable()  # A의 생산량\n",
    "b = cp.Variable()  # B의 생산량\n",
    "\n",
    "# 조건의 정의\n",
    "constraints = [\n",
    "    a >= 100,  # A를 100개 이상 생산해야 한다.\n",
    "    b >= 100,  # B를 100개 이상 생산해야 한다. \n",
    "    a + 2 * b <= 500, # 500시간 내에 생산해야 한다.\n",
    "    4 * a + 5 * b <= 9800,  # 부품이 9800개 밖에 없다.\n",
    "]\n",
    "\n",
    "# 문제의 정의\n",
    "obj = cp.Maximize(3 * a + 5 * b)\n",
    "prob = cp.Problem(obj, constraints)\n",
    "\n",
    "# 계산\n",
    "prob.solve() \n",
    "\n",
    "# 결과\n",
    "print(\"상태:\", prob.status)\n",
    "print(\"최적값:\", a.value, b.value)"
   ]
  },
  {
   "cell_type": "code",
   "execution_count": 4,
   "metadata": {},
   "outputs": [
    {
     "data": {
      "text/plain": [
       "array([[0.5],\n",
       "       [0.5]])"
      ]
     },
     "execution_count": 4,
     "metadata": {},
     "output_type": "execute_result"
    }
   ],
   "source": [
    "from cvxopt import matrix, solvers\n",
    "\n",
    "Q = matrix(np.diag([2.0, 2.0]))\n",
    "c = matrix(np.array([0.0, 0.0]))\n",
    "A = matrix(np.array([[1.0, 1.0]]))\n",
    "b = matrix(np.array([[1.0]]))\n",
    "\n",
    "sol = solvers.qp(Q, c, A=A, b=b)\n",
    "np.array(sol['x'])"
   ]
  }
 ],
 "metadata": {
  "kernelspec": {
   "display_name": "Python 3",
   "language": "python",
   "name": "python3"
  },
  "language_info": {
   "codemirror_mode": {
    "name": "ipython",
    "version": 3
   },
   "file_extension": ".py",
   "mimetype": "text/x-python",
   "name": "python",
   "nbconvert_exporter": "python",
   "pygments_lexer": "ipython3",
   "version": "3.7.6"
  }
 },
 "nbformat": 4,
 "nbformat_minor": 4
}
