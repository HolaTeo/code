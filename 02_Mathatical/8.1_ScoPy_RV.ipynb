{
 "cells": [
  {
   "cell_type": "code",
   "execution_count": 1,
   "metadata": {},
   "outputs": [],
   "source": [
    "import scipy as sp\n",
    "import scipy.stats"
   ]
  },
  {
   "cell_type": "code",
   "execution_count": 2,
   "metadata": {},
   "outputs": [],
   "source": [
    "rv = sp.stats.norm()"
   ]
  },
  {
   "cell_type": "code",
   "execution_count": 3,
   "metadata": {},
   "outputs": [],
   "source": [
    "rv = sp.stats.norm(loc=1, scale=2)"
   ]
  },
  {
   "cell_type": "code",
   "execution_count": 4,
   "metadata": {},
   "outputs": [],
   "source": [
    "xx = np.linspace(-8, 8, 100)\n",
    "pdf = rv.pdf(xx)\n",
    "plt.plot(xx, pdf)\n",
    "plt.title(\"확률밀도함수 \")\n",
    "plt.xlabel(\"$x$\")\n",
    "plt.ylabel(\"$p(x)$\")\n",
    "plt.show()"
   ]
  },
  {
   "cell_type": "code",
   "execution_count": 5,
   "metadata": {},
   "outputs": [],
   "source": [
    "xx = np.linspace(-8, 8, 100)\n",
    "cdf = rv.cdf(xx)\n",
    "plt.plot(xx, cdf)\n",
    "plt.title(\"누적분포함수 \")\n",
    "plt.xlabel(\"$x$\")\n",
    "plt.ylabel(\"$F(x)$\")\n",
    "plt.show()"
   ]
  },
  {
   "cell_type": "code",
   "execution_count": 6,
   "metadata": {},
   "outputs": [
    {
     "data": {
      "text/plain": [
       "array([[ 4.52810469,  1.80031442,  2.95747597,  5.4817864 ,  4.73511598],\n",
       "       [-0.95455576,  2.90017684,  0.69728558,  0.7935623 ,  1.821197  ],\n",
       "       [ 1.28808714,  3.90854701,  2.52207545,  1.24335003,  1.88772647]])"
      ]
     },
     "execution_count": 6,
     "metadata": {},
     "output_type": "execute_result"
    }
   ],
   "source": [
    "rv.rvs(size=(3, 5), random_state=0)"
   ]
  },
  {
   "cell_type": "code",
   "execution_count": 7,
   "metadata": {},
   "outputs": [],
   "source": [
    "sns.distplot(rv.rvs(size=10000, random_state=0))\n",
    "plt.title(\"랜덤 표본 생성 결과\")\n",
    "plt.xlabel(\"표본값\")\n",
    "plt.ylabel(\"count\")\n",
    "plt.xlim(-8, 8)\n",
    "plt.show()"
   ]
  },
  {
   "cell_type": "code",
   "execution_count": 8,
   "metadata": {},
   "outputs": [],
   "source": [
    "rv1 = sp.stats.uniform()\n",
    "rv2 = sp.stats.uniform()\n",
    "\n",
    "np.random.seed(0)\n",
    "N = 50000\n",
    "x_1 = rv1.rvs(N)\n",
    "x_2 = rv2.rvs(N)\n",
    "x_3 = x_1 + x_2\n",
    "\n",
    "plt.figure(figsize=(12, 5))\n",
    "\n",
    "plt.subplot(131)\n",
    "sns.distplot(x_1, kde=False)\n",
    "plt.title(\"균일분포\")\n",
    "plt.xlabel(\"표본값\")\n",
    "plt.xlim(-0.2, 2.2)\n",
    "\n",
    "plt.subplot(132)\n",
    "sns.distplot(x_2, kde=False)\n",
    "plt.title(\"균일분포\")\n",
    "plt.xlabel(\"표본값\")\n",
    "plt.xlim(-0.2, 2.2)\n",
    "\n",
    "plt.subplot(133)\n",
    "sns.distplot(x_3, kde=False)\n",
    "plt.title(\"균일분포 표본의 합의 분포\")\n",
    "plt.xlabel(\"표본값\")\n",
    "plt.xlim(-0.2, 2.2)\n",
    "\n",
    "plt.show()"
   ]
  },
  {
   "cell_type": "code",
   "execution_count": null,
   "metadata": {},
   "outputs": [],
   "source": []
  }
 ],
 "metadata": {
  "kernelspec": {
   "display_name": "Python 3",
   "language": "python",
   "name": "python3"
  },
  "language_info": {
   "codemirror_mode": {
    "name": "ipython",
    "version": 3
   },
   "file_extension": ".py",
   "mimetype": "text/x-python",
   "name": "python",
   "nbconvert_exporter": "python",
   "pygments_lexer": "ipython3",
   "version": "3.7.7"
  }
 },
 "nbformat": 4,
 "nbformat_minor": 4
}
