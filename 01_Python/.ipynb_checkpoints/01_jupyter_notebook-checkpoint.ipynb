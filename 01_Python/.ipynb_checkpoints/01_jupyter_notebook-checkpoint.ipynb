{
 "cells": [
  {
   "cell_type": "markdown",
   "metadata": {},
   "source": [
    "### Jupyter Notebook\n",
    "- mode\n",
    "    - 명령모드(esc) : 셀을 수정할때 사용\n",
    "    - 편집모드(enter) : 셀안의 내용을 수정할때 사용\n",
    "- style\n",
    "    - markdown(명령모드 + m) : 셀안에 설명을 작성\n",
    "    - code(명령모드 + y) : 파이썬 코드를 작성\n",
    "- 단축키\n",
    "    - 셀 실행 : shift + enter\n",
    "    - 셀 삭제 : (명령모드) x\n",
    "    - 되돌리기 : (명령모드) z\n",
    "    -셀 생성 : (명령모드) a(위), b(아래)"
   ]
  },
  {
   "cell_type": "code",
   "execution_count": 1,
   "metadata": {},
   "outputs": [
    {
     "data": {
      "text/plain": [
       "3"
      ]
     },
     "execution_count": 1,
     "metadata": {},
     "output_type": "execute_result"
    }
   ],
   "source": [
    "1+2"
   ]
  },
  {
   "cell_type": "code",
   "execution_count": null,
   "metadata": {},
   "outputs": [],
   "source": [
    "### Magic Command\n",
    "- 셀 내부에서 특별하게 동작하는 커맨드\n",
    "- % : 한줄의 magic command 동작\n",
    "- %% : 셀 단위의 magic command 동작\n",
    "- 주요 magic command\n",
    "    - pwd : 현재 주피터 노트북 파일의 경로\n",
    "    - ls : 현재 디렉토리의 파일 리스트\n",
    "    - whos : 현재 선언된 편수를 출력"
   ]
  },
  {
   "cell_type": "code",
   "execution_count": 2,
   "metadata": {},
   "outputs": [
    {
     "data": {
      "text/plain": [
       "'D:\\\\code\\\\01_Python'"
      ]
     },
     "execution_count": 2,
     "metadata": {},
     "output_type": "execute_result"
    }
   ],
   "source": [
    "%pwd"
   ]
  },
  {
   "cell_type": "code",
   "execution_count": 3,
   "metadata": {},
   "outputs": [
    {
     "name": "stdout",
     "output_type": "stream",
     "text": [
      " D 드라이브의 볼륨: HDD저장소\n",
      " 볼륨 일련 번호: 805B-1154\n",
      "\n",
      " D:\\code\\01_Python 디렉터리\n",
      "\n",
      "2020-06-08  오후 12:45    <DIR>          .\n",
      "2020-06-08  오후 12:45    <DIR>          ..\n",
      "2020-06-08  오후 12:37    <DIR>          .ipynb_checkpoints\n",
      "2020-06-08  오후 12:45             1,840 01_jupyter_notebook.ipynb\n",
      "               1개 파일               1,840 바이트\n",
      "               3개 디렉터리  479,225,472,000 바이트 남음\n"
     ]
    }
   ],
   "source": [
    "%ls"
   ]
  },
  {
   "cell_type": "code",
   "execution_count": 11,
   "metadata": {},
   "outputs": [],
   "source": [
    "a=1"
   ]
  },
  {
   "cell_type": "code",
   "execution_count": 12,
   "metadata": {},
   "outputs": [
    {
     "name": "stdout",
     "output_type": "stream",
     "text": [
      "Variable   Type    Data/Info\n",
      "----------------------------\n",
      "a          int     1\n"
     ]
    }
   ],
   "source": [
    "%whos"
   ]
  },
  {
   "cell_type": "code",
   "execution_count": 9,
   "metadata": {},
   "outputs": [
    {
     "name": "stdout",
     "output_type": "stream",
     "text": [
      "Once deleted, variables cannot be recovered. Proceed (y/[n])? y\n"
     ]
    }
   ],
   "source": [
    "%reset"
   ]
  },
  {
   "cell_type": "code",
   "execution_count": 10,
   "metadata": {},
   "outputs": [
    {
     "name": "stdout",
     "output_type": "stream",
     "text": [
      "Interactive namespace is empty.\n"
     ]
    }
   ],
   "source": [
    "%whos"
   ]
  },
  {
   "cell_type": "code",
   "execution_count": null,
   "metadata": {},
   "outputs": [],
   "source": [
    "### Shell command\n",
    "- 주피터 노트북을 실행 쉘 환경의 명령을 사용\n",
    "- 명령어 앞에 !를 붙여서 실행\n",
    "- 주요 명령어\n",
    "    - ls, cat, echo, ..."
   ]
  },
  {
   "cell_type": "code",
   "execution_count": 13,
   "metadata": {},
   "outputs": [
    {
     "name": "stdout",
     "output_type": "stream",
     "text": [
      "python\n"
     ]
    }
   ],
   "source": [
    "!echo python"
   ]
  },
  {
   "cell_type": "code",
   "execution_count": null,
   "metadata": {},
   "outputs": [],
   "source": []
  }
 ],
 "metadata": {
  "kernelspec": {
   "display_name": "Python 3",
   "language": "python",
   "name": "python3"
  },
  "language_info": {
   "codemirror_mode": {
    "name": "ipython",
    "version": 3
   },
   "file_extension": ".py",
   "mimetype": "text/x-python",
   "name": "python",
   "nbconvert_exporter": "python",
   "pygments_lexer": "ipython3",
   "version": "3.7.6"
  }
 },
 "nbformat": 4,
 "nbformat_minor": 4
}
