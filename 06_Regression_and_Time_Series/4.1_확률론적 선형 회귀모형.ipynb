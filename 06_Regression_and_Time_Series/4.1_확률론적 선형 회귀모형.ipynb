{
 "cells": [
  {
   "cell_type": "code",
   "execution_count": 3,
   "metadata": {},
   "outputs": [],
   "source": [
    "from patsy import *\n",
    "# 경고 무시\n",
    "import warnings\n",
    "warnings.simplefilter('ignore')\n",
    "\n",
    "# 자주 사용하는 패키지를 임포트\n",
    "import matplotlib as mpl\n",
    "import matplotlib.pylab as plt\n",
    "from mpl_toolkits.mplot3d import Axes3D\n",
    "import seaborn as sns\n",
    "import numpy as np\n",
    "import scipy as sp\n",
    "import pandas as pd\n",
    "import statsmodels.api as sm\n",
    "import sklearn as sk\n",
    "import pgmpy\n",
    "import scipy.stats\n",
    "\n",
    "# matplotlib 설정\n",
    "mpl.use('Agg')\n",
    "\n",
    "# seaborn 설정\n",
    "sns.set()\n",
    "sns.set_style(\"whitegrid\")\n",
    "sns.set_color_codes()\n",
    "\n",
    "%matplotlib inline"
   ]
  },
  {
   "cell_type": "markdown",
   "metadata": {},
   "source": [
    "### 부츠트랩"
   ]
  },
  {
   "cell_type": "code",
   "execution_count": 4,
   "metadata": {},
   "outputs": [
    {
     "data": {
      "text/plain": [
       "array(42.38550486)"
      ]
     },
     "execution_count": 4,
     "metadata": {},
     "output_type": "execute_result"
    }
   ],
   "source": [
    "from sklearn.datasets import make_regression\n",
    "\n",
    "X0, y, coef = make_regression(n_samples=100, n_features=1, noise=20,\n",
    "                              coef=True, random_state=0)\n",
    "coef"
   ]
  },
  {
   "cell_type": "code",
   "execution_count": 6,
   "metadata": {},
   "outputs": [],
   "source": [
    "dfX0 = pd.DataFrame(X0, columns=[\"X1\"])\n",
    "dfX = sm.add_constant(dfX0)\n",
    "dfy = pd.DataFrame(y, columns=[\"y\"])\n",
    "\n",
    "model = sm.OLS(dfy, dfX)\n",
    "result = model.fit()"
   ]
  },
  {
   "cell_type": "code",
   "execution_count": 8,
   "metadata": {},
   "outputs": [
    {
     "data": {
      "text/plain": [
       "const    -1.628364\n",
       "X1       42.853356\n",
       "dtype: float64"
      ]
     },
     "execution_count": 8,
     "metadata": {},
     "output_type": "execute_result"
    }
   ],
   "source": [
    "result.params"
   ]
  },
  {
   "cell_type": "code",
   "execution_count": 9,
   "metadata": {},
   "outputs": [
    {
     "name": "stdout",
     "output_type": "stream",
     "text": [
      "Wall time: 1.93 s\n"
     ]
    }
   ],
   "source": [
    "%%time\n",
    "N = 1000\n",
    "params_w0 = np.zeros(N)\n",
    "params_w1 = np.zeros(N)\n",
    "for i in range(N):\n",
    "    idx = np.random.choice(len(dfy), len(dfy), replace=True)\n",
    "    dfX2 = dfX.iloc[idx, :]\n",
    "    dfy2 = dfy.iloc[idx]\n",
    "    r = sm.OLS(dfy2, dfX2).fit()\n",
    "    params_w0[i] = r.params.const\n",
    "    params_w1[i] = r.params.X1"
   ]
  },
  {
   "cell_type": "code",
   "execution_count": 11,
   "metadata": {},
   "outputs": [
    {
     "name": "stderr",
     "output_type": "stream",
     "text": [
      "Font 'default' does not have a glyph for '\\ucd94' [U+cd94], substituting with a dummy symbol.\n",
      "Font 'default' does not have a glyph for '\\uc815' [U+c815], substituting with a dummy symbol.\n",
      "Font 'default' does not have a glyph for '\\uce58' [U+ce58], substituting with a dummy symbol.\n",
      "Font 'default' does not have a glyph for '\\ubd84' [U+bd84], substituting with a dummy symbol.\n",
      "Font 'default' does not have a glyph for '\\ud3ec' [U+d3ec], substituting with a dummy symbol.\n",
      "Font 'default' does not have a glyph for '\\ucd94' [U+cd94], substituting with a dummy symbol.\n",
      "Font 'default' does not have a glyph for '\\uc815' [U+c815], substituting with a dummy symbol.\n",
      "Font 'default' does not have a glyph for '\\uce58' [U+ce58], substituting with a dummy symbol.\n",
      "Font 'default' does not have a glyph for '\\ubd84' [U+bd84], substituting with a dummy symbol.\n",
      "Font 'default' does not have a glyph for '\\ud3ec' [U+d3ec], substituting with a dummy symbol.\n",
      "Font 'default' does not have a glyph for '\\ucd94' [U+cd94], substituting with a dummy symbol.\n",
      "Font 'default' does not have a glyph for '\\uc815' [U+c815], substituting with a dummy symbol.\n",
      "Font 'default' does not have a glyph for '\\uce58' [U+ce58], substituting with a dummy symbol.\n",
      "Font 'default' does not have a glyph for '\\ubd84' [U+bd84], substituting with a dummy symbol.\n",
      "Font 'default' does not have a glyph for '\\ud3ec' [U+d3ec], substituting with a dummy symbol.\n",
      "Font 'default' does not have a glyph for '\\ucd94' [U+cd94], substituting with a dummy symbol.\n",
      "Font 'default' does not have a glyph for '\\uc815' [U+c815], substituting with a dummy symbol.\n",
      "Font 'default' does not have a glyph for '\\uce58' [U+ce58], substituting with a dummy symbol.\n",
      "Font 'default' does not have a glyph for '\\ubd84' [U+bd84], substituting with a dummy symbol.\n",
      "Font 'default' does not have a glyph for '\\ud3ec' [U+d3ec], substituting with a dummy symbol.\n"
     ]
    },
    {
     "data": {
      "image/png": "[encoded data removed]",
      "text/plain": [
       "<Figure size 576x216 with 2 Axes>"
      ]
     },
     "metadata": {
      "needs_background": "light"
     },
     "output_type": "display_data"
    }
   ],
   "source": [
    "plt.figure(figsize=(8, 3))\n",
    "\n",
    "ax1 = plt.subplot(121)\n",
    "sns.distplot(params_w1, ax=ax1)\n",
    "plt.axvline(params_w1.mean(), c='r')\n",
    "plt.title(\"$\\hat{w}_1$ 추정치 분포\")\n",
    "\n",
    "ax2 = plt.subplot(122)\n",
    "sns.distplot(params_w0, ax=ax2)\n",
    "plt.axvline(params_w0.mean(), c='r')\n",
    "plt.title(\"$\\hat{w}_0$ 추정치 분포\")\n",
    "plt.show()"
   ]
  },
  {
   "cell_type": "code",
   "execution_count": 12,
   "metadata": {},
   "outputs": [
    {
     "data": {
      "text/plain": [
       "(42.823947980515264, 1.9523926618140004)"
      ]
     },
     "execution_count": 12,
     "metadata": {},
     "output_type": "execute_result"
    }
   ],
   "source": [
    "params_w1.mean(), params_w1.std()"
   ]
  },
  {
   "cell_type": "code",
   "execution_count": 13,
   "metadata": {},
   "outputs": [
    {
     "name": "stdout",
     "output_type": "stream",
     "text": [
      "                            OLS Regression Results                            \n",
      "==============================================================================\n",
      "Dep. Variable:                      y   R-squared:                       0.803\n",
      "Model:                            OLS   Adj. R-squared:                  0.801\n",
      "Method:                 Least Squares   F-statistic:                     400.3\n",
      "Date:                Sat, 08 Aug 2020   Prob (F-statistic):           2.21e-36\n",
      "Time:                        11:36:58   Log-Likelihood:                -448.09\n",
      "No. Observations:                 100   AIC:                             900.2\n",
      "Df Residuals:                      98   BIC:                             905.4\n",
      "Df Model:                           1                                         \n",
      "Covariance Type:            nonrobust                                         \n",
      "==============================================================================\n",
      "                 coef    std err          t      P>|t|      [0.025      0.975]\n",
      "------------------------------------------------------------------------------\n",
      "const         -1.6284      2.163     -0.753      0.453      -5.920       2.663\n",
      "X1            42.8534      2.142     20.008      0.000      38.603      47.104\n",
      "==============================================================================\n",
      "Omnibus:                        3.523   Durbin-Watson:                   1.984\n",
      "Prob(Omnibus):                  0.172   Jarque-Bera (JB):                2.059\n",
      "Skew:                          -0.073   Prob(JB):                        0.357\n",
      "Kurtosis:                       2.312   Cond. No.                         1.06\n",
      "==============================================================================\n",
      "\n",
      "Warnings:\n",
      "[1] Standard Errors assume that the covariance matrix of the errors is correctly specified.\n"
     ]
    }
   ],
   "source": [
    "print(result.summary())"
   ]
  },
  {
   "cell_type": "markdown",
   "metadata": {},
   "source": [
    "### 잔차의 분포"
   ]
  },
  {
   "cell_type": "code",
   "execution_count": 7,
   "metadata": {},
   "outputs": [
    {
     "data": {
      "image/png": "[encoded data removed]",
      "text/plain": [
       "<Figure size 432x288 with 1 Axes>"
      ]
     },
     "metadata": {
      "needs_background": "light"
     },
     "output_type": "display_data"
    }
   ],
   "source": [
    "sp.stats.probplot(result.resid, plot=plt)\n",
    "plt.show()"
   ]
  },
  {
   "cell_type": "code",
   "execution_count": 14,
   "metadata": {},
   "outputs": [
    {
     "name": "stdout",
     "output_type": "stream",
     "text": [
      "Chi^2       :  3.523\n",
      "P-value     :  0.172\n"
     ]
    }
   ],
   "source": [
    "test = sm.stats.omni_normtest(result.resid)\n",
    "for xi in zip(['Chi^2', 'P-value'], test):\n",
    "    print(\"%-12s: %6.3f\" % xi)"
   ]
  },
  {
   "cell_type": "code",
   "execution_count": 15,
   "metadata": {},
   "outputs": [
    {
     "name": "stdout",
     "output_type": "stream",
     "text": [
      "Jarque-Bera :  2.059\n",
      "P-value     :  0.357\n",
      "Skew        : -0.073\n",
      "Kurtosis    :  2.312\n"
     ]
    }
   ],
   "source": [
    "test = sm.stats.jarque_bera(result.resid)\n",
    "for xi in zip(['Jarque-Bera', 'P-value', 'Skew', 'Kurtosis'], test):\n",
    "    print(\"%-12s: %6.3f\" % xi)"
   ]
  },
  {
   "cell_type": "code",
   "execution_count": 16,
   "metadata": {},
   "outputs": [
    {
     "data": {
      "image/png": "[encoded data removed]",
      "text/plain": [
       "<Figure size 432x288 with 1 Axes>"
      ]
     },
     "metadata": {
      "needs_background": "light"
     },
     "output_type": "display_data"
    }
   ],
   "source": [
    "plt.plot(X0, result.resid, 'o')\n",
    "plt.axhline(y=0, c='k')\n",
    "plt.xlabel(\"X1\")\n",
    "plt.ylabel(\"Residual\")\n",
    "plt.show()"
   ]
  },
  {
   "cell_type": "code",
   "execution_count": 17,
   "metadata": {},
   "outputs": [
    {
     "data": {
      "image/png": "[encoded data removed]",
      "text/plain": [
       "<Figure size 432x288 with 1 Axes>"
      ]
     },
     "metadata": {
      "needs_background": "light"
     },
     "output_type": "display_data"
    }
   ],
   "source": [
    "sns.kdeplot(result.resid[((1 < X0) & (X0 < 2)).flatten()], label=\"1 < x < 2\")\n",
    "sns.kdeplot(result.resid[((0 < X0) & (X0 < 1)).flatten()], label=\"0 < x < 1\")\n",
    "plt.legend()\n",
    "plt.show()"
   ]
  },
  {
   "cell_type": "markdown",
   "metadata": {},
   "source": [
    "### 단일 계수 t-검정"
   ]
  },
  {
   "cell_type": "code",
   "execution_count": 18,
   "metadata": {},
   "outputs": [
    {
     "name": "stdout",
     "output_type": "stream",
     "text": [
      "                            OLS Regression Results                            \n",
      "==============================================================================\n",
      "Dep. Variable:                      y   R-squared:                       0.803\n",
      "Model:                            OLS   Adj. R-squared:                  0.801\n",
      "Method:                 Least Squares   F-statistic:                     400.3\n",
      "Date:                Sat, 08 Aug 2020   Prob (F-statistic):           2.21e-36\n",
      "Time:                        12:33:40   Log-Likelihood:                -448.09\n",
      "No. Observations:                 100   AIC:                             900.2\n",
      "Df Residuals:                      98   BIC:                             905.4\n",
      "Df Model:                           1                                         \n",
      "Covariance Type:            nonrobust                                         \n",
      "==============================================================================\n",
      "                 coef    std err          t      P>|t|      [0.025      0.975]\n",
      "------------------------------------------------------------------------------\n",
      "const         -1.6284      2.163     -0.753      0.453      -5.920       2.663\n",
      "X1            42.8534      2.142     20.008      0.000      38.603      47.104\n",
      "==============================================================================\n",
      "Omnibus:                        3.523   Durbin-Watson:                   1.984\n",
      "Prob(Omnibus):                  0.172   Jarque-Bera (JB):                2.059\n",
      "Skew:                          -0.073   Prob(JB):                        0.357\n",
      "Kurtosis:                       2.312   Cond. No.                         1.06\n",
      "==============================================================================\n",
      "\n",
      "Warnings:\n",
      "[1] Standard Errors assume that the covariance matrix of the errors is correctly specified.\n"
     ]
    }
   ],
   "source": [
    "print(result.summary())"
   ]
  },
  {
   "cell_type": "code",
   "execution_count": 19,
   "metadata": {},
   "outputs": [
    {
     "name": "stdout",
     "output_type": "stream",
     "text": [
      "                             Test for Constraints                             \n",
      "==============================================================================\n",
      "                 coef    std err          t      P>|t|      [0.025      0.975]\n",
      "------------------------------------------------------------------------------\n",
      "c0            42.8534      2.142      1.332      0.186      38.603      47.104\n",
      "==============================================================================\n"
     ]
    }
   ],
   "source": [
    "# w1을 40으로 해도 되는지에 대한 테스트\n",
    "print(result.t_test(\"X1 = 40\"))"
   ]
  },
  {
   "cell_type": "code",
   "execution_count": 20,
   "metadata": {
    "scrolled": true
   },
   "outputs": [
    {
     "name": "stdout",
     "output_type": "stream",
     "text": [
      "                            OLS Regression Results                            \n",
      "==============================================================================\n",
      "Dep. Variable:                  value   R-squared:                       0.930\n",
      "Model:                            OLS   Adj. R-squared:                  0.927\n",
      "Method:                 Least Squares   F-statistic:                     277.3\n",
      "Date:                Sat, 08 Aug 2020   Prob (F-statistic):          2.96e-125\n",
      "Time:                        12:34:48   Log-Likelihood:                -535.82\n",
      "No. Observations:                 240   AIC:                             1096.\n",
      "Df Residuals:                     228   BIC:                             1137.\n",
      "Df Model:                          11                                         \n",
      "Covariance Type:            nonrobust                                         \n",
      "================================================================================\n",
      "                   coef    std err          t      P>|t|      [0.025      0.975]\n",
      "--------------------------------------------------------------------------------\n",
      "C(month)[01]    39.6950      0.518     76.691      0.000      38.675      40.715\n",
      "C(month)[02]    39.1900      0.518     75.716      0.000      38.170      40.210\n",
      "C(month)[03]    42.1950      0.518     81.521      0.000      41.175      43.215\n",
      "C(month)[04]    46.2900      0.518     89.433      0.000      45.270      47.310\n",
      "C(month)[05]    52.5600      0.518    101.547      0.000      51.540      53.580\n",
      "C(month)[06]    58.0400      0.518    112.134      0.000      57.020      59.060\n",
      "C(month)[07]    61.9000      0.518    119.592      0.000      60.880      62.920\n",
      "C(month)[08]    60.5200      0.518    116.926      0.000      59.500      61.540\n",
      "C(month)[09]    56.4800      0.518    109.120      0.000      55.460      57.500\n",
      "C(month)[10]    49.4950      0.518     95.625      0.000      48.475      50.515\n",
      "C(month)[11]    42.5800      0.518     82.265      0.000      41.560      43.600\n",
      "C(month)[12]    39.5300      0.518     76.373      0.000      38.510      40.550\n",
      "==============================================================================\n",
      "Omnibus:                        5.430   Durbin-Watson:                   1.529\n",
      "Prob(Omnibus):                  0.066   Jarque-Bera (JB):                5.299\n",
      "Skew:                          -0.281   Prob(JB):                       0.0707\n",
      "Kurtosis:                       3.463   Cond. No.                         1.00\n",
      "==============================================================================\n",
      "\n",
      "Warnings:\n",
      "[1] Standard Errors assume that the covariance matrix of the errors is correctly specified.\n"
     ]
    }
   ],
   "source": [
    "import datetime\n",
    "from calendar import isleap\n",
    "\n",
    "df_nottem = sm.datasets.get_rdataset(\"nottem\").data \n",
    "\n",
    "def convert_partial_year(number):\n",
    "    year = int(number)\n",
    "    d = datetime.timedelta(days=(number - year) * (365 + isleap(year)))\n",
    "    day_one = datetime.datetime(year, 1, 1)\n",
    "    date = d + day_one\n",
    "    return date\n",
    "\n",
    "df_nottem[\"date0\"] = df_nottem[[\"time\"]].applymap(convert_partial_year)\n",
    "df_nottem[\"date\"] = pd.DatetimeIndex(df_nottem[\"date0\"]).round('60min') + datetime.timedelta(seconds=3600*24)\n",
    "df_nottem[\"month\"] = df_nottem[\"date\"].dt.strftime(\"%m\").astype('category')\n",
    "del df_nottem[\"date0\"], df_nottem[\"date\"]\n",
    "\n",
    "model_nottem = sm.OLS.from_formula(\"value ~ C(month) + 0\", df_nottem)\n",
    "result_nottem = model_nottem.fit()\n",
    "print(result_nottem.summary())"
   ]
  },
  {
   "cell_type": "code",
   "execution_count": 21,
   "metadata": {
    "scrolled": true
   },
   "outputs": [
    {
     "name": "stdout",
     "output_type": "stream",
     "text": [
      "                             Test for Constraints                             \n",
      "==============================================================================\n",
      "                 coef    std err          t      P>|t|      [0.025      0.975]\n",
      "------------------------------------------------------------------------------\n",
      "c0             0.5050      0.732      0.690      0.491      -0.937       1.947\n",
      "==============================================================================\n"
     ]
    }
   ],
   "source": [
    "# 1월과 2월은 구분이 불필요\n",
    "print(result_nottem.t_test(\"C(month)[01] = C(month)[02]\"))"
   ]
  },
  {
   "cell_type": "code",
   "execution_count": 22,
   "metadata": {
    "scrolled": true
   },
   "outputs": [
    {
     "name": "stdout",
     "output_type": "stream",
     "text": [
      "                             Test for Constraints                             \n",
      "==============================================================================\n",
      "                 coef    std err          t      P>|t|      [0.025      0.975]\n",
      "------------------------------------------------------------------------------\n",
      "c0             3.0050      0.732      4.105      0.000       1.563       4.447\n",
      "==============================================================================\n"
     ]
    }
   ],
   "source": [
    "# 2월과 3월은 구분이 필요\n",
    "print(result_nottem.t_test(\"C(month)[03] = C(month)[02]\"))"
   ]
  }
 ],
 "metadata": {
  "kernelspec": {
   "display_name": "Python 3",
   "language": "python",
   "name": "python3"
  },
  "language_info": {
   "codemirror_mode": {
    "name": "ipython",
    "version": 3
   },
   "file_extension": ".py",
   "mimetype": "text/x-python",
   "name": "python",
   "nbconvert_exporter": "python",
   "pygments_lexer": "ipython3",
   "version": "3.7.7"
  }
 },
 "nbformat": 4,
 "nbformat_minor": 4
}
