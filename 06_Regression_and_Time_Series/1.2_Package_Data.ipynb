{
 "cells": [
  {
   "cell_type": "code",
   "execution_count": 1,
   "metadata": {},
   "outputs": [],
   "source": [
    "# 경고 무시\n",
    "import warnings\n",
    "warnings.simplefilter('ignore')\n",
    "\n",
    "# 자주 사용하는 패키지를 임포트\n",
    "import matplotlib as mpl\n",
    "import matplotlib.pylab as plt\n",
    "from mpl_toolkits.mplot3d import Axes3D\n",
    "import seaborn as sns\n",
    "import numpy as np\n",
    "import scipy as sp\n",
    "import pandas as pd\n",
    "import statsmodels.api as sm\n",
    "import sklearn as sk\n",
    "import pgmpy\n",
    "import scipy.stats\n",
    "\n",
    "# matplotlib 설정\n",
    "mpl.use('Agg')\n",
    "\n",
    "# seaborn 설정\n",
    "sns.set()\n",
    "sns.set_style(\"whitegrid\")\n",
    "sns.set_color_codes()\n",
    "\n",
    "%matplotlib inline"
   ]
  },
  {
   "cell_type": "markdown",
   "metadata": {},
   "source": [
    "- 자세한 사항은 다음 프로젝트 홈페이지에서 확인할 수 있다.\n",
    "\n",
    "- https://github.com/vincentarelbundock/Rdatasets\n",
    "- 다음은 위 프로젝트에서 제공하는 데이터셋의 목록이다.\n",
    "\n",
    "- http://vincentarelbundock.github.io/Rdatasets/datasets.html\n",
    "- 이 목록에 있는 데이터를 가져오려면 우선 \"Package\"이름과 \"Item\"을 알아낸 후 다음에 설명하는 get_rdataset 명령을 이용한다.\n",
    "\n",
    "#### get_rdataset(item, [package=\"datasets\"])\n",
    "- package: 데이터를 제공하는 R 패키지 이름\n",
    "- title: 데이터 이름 문자열\n",
    "- data: 데이터를 담고 있는 데이터프레임\n",
    "- __doc__: 데이터에 대한 설명 문자열. 이 설명은 R 패키지의 내용을 그대로 가져온 것이므로 예제 코드가 R로 되어 있어 파이썬에서는 사용할 수 없다."
   ]
  },
  {
   "cell_type": "code",
   "execution_count": null,
   "metadata": {},
   "outputs": [],
   "source": []
  }
 ],
 "metadata": {
  "kernelspec": {
   "display_name": "Python 3",
   "language": "python",
   "name": "python3"
  },
  "language_info": {
   "codemirror_mode": {
    "name": "ipython",
    "version": 3
   },
   "file_extension": ".py",
   "mimetype": "text/x-python",
   "name": "python",
   "nbconvert_exporter": "python",
   "pygments_lexer": "ipython3",
   "version": "3.7.7"
  }
 },
 "nbformat": 4,
 "nbformat_minor": 4
}
